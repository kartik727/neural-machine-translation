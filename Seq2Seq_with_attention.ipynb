{
  "nbformat": 4,
  "nbformat_minor": 0,
  "metadata": {
    "colab": {
      "name": "seq2seq-attention.ipynb",
      "provenance": [],
      "toc_visible": true,
      "mount_file_id": "https://github.com/kartik727/neural-machine-translation/blob/master/Seq2Seq_with_attention.ipynb",
      "authorship_tag": "ABX9TyPJ981O1HfiAY0YAFpjfNf5",
      "include_colab_link": true
    },
    "kernelspec": {
      "name": "python3",
      "display_name": "Python 3"
    },
    "language_info": {
      "name": "python"
    },
    "accelerator": "GPU"
  },
  "cells": [
    {
      "cell_type": "markdown",
      "metadata": {
        "id": "view-in-github",
        "colab_type": "text"
      },
      "source": [
        "<a href=\"https://colab.research.google.com/github/kartik727/neural-machine-translation/blob/master/Seq2Seq_with_attention.ipynb\" target=\"_parent\"><img src=\"https://colab.research.google.com/assets/colab-badge.svg\" alt=\"Open In Colab\"/></a>"
      ]
    },
    {
      "cell_type": "markdown",
      "metadata": {
        "id": "h9w8BVLFXfjP"
      },
      "source": [
        "# Seq2Seq with attention\n",
        "\n",
        "## Dependencies\n",
        "Primary library used for modelling and training - trax\n",
        "\n",
        "## Data - Tensorflow Datasets (TFDS)\n",
        "1. OPUS (`'opus'`)"
      ]
    },
    {
      "cell_type": "code",
      "metadata": {
        "id": "nIxeipWjVbKF"
      },
      "source": [
        "import random\n",
        "import numpy as np\n",
        "import re\n",
        "from collections import defaultdict\n",
        "import os\n",
        "import time\n",
        "import matplotlib.pyplot as plt\n",
        "import matplotlib.ticker as ticker\n",
        "import shutil\n",
        "from tqdm import tqdm, trange\n",
        "\n",
        "import nltk\n",
        "import tensorflow as tf\n",
        "import tensorflow_datasets as tfds"
      ],
      "execution_count": 1,
      "outputs": []
    },
    {
      "cell_type": "code",
      "metadata": {
        "id": "vYIN8QK51Fr4",
        "colab": {
          "base_uri": "https://localhost:8080/"
        },
        "outputId": "394e760c-dc58-4650-b715-abdc522e78e4"
      },
      "source": [
        "# Utils\n",
        "\n",
        "!git clone https://gist.github.com/c47d0ad11b63acd334e760fc4ed21488.git namespace\n",
        "!git clone https://gist.github.com/553d2d565a17788d6217eba65e770c41.git tb_logger"
      ],
      "execution_count": 2,
      "outputs": [
        {
          "output_type": "stream",
          "text": [
            "fatal: destination path 'namespace' already exists and is not an empty directory.\n",
            "fatal: destination path 'tb_logger' already exists and is not an empty directory.\n"
          ],
          "name": "stdout"
        }
      ]
    },
    {
      "cell_type": "code",
      "metadata": {
        "id": "KqG3uKccP1t7"
      },
      "source": [
        "from namespace.namespace import Namespace\n",
        "from tb_logger.tensorboard_logger_2 import Logger as TB_Logger"
      ],
      "execution_count": 3,
      "outputs": []
    },
    {
      "cell_type": "code",
      "metadata": {
        "id": "oe2lkV32ruUS"
      },
      "source": [
        "config_dict = {\n",
        "    'model' : {\n",
        "        'embedding_size' : 256,\n",
        "        'n_encoder_layers' : 1,\n",
        "        'n_decoder_layers' : 1,\n",
        "        'n_attention_heads' : 1,\n",
        "        'attention_dropout' : 0.,\n",
        "        'n_units' : 1024,\n",
        "        'batch_size' : 32,\n",
        "        'recurrent_cell' : 'LSTM'\n",
        "    },\n",
        "    'languages' : {\n",
        "        'input' : {\n",
        "            'name' : 'en',\n",
        "            'sentence_maxlen' : 30,\n",
        "            'vocab_size' : 20_000,\n",
        "        },\n",
        "        'target' : {\n",
        "            'name' : 'de',\n",
        "            'sentence_maxlen' : 30,\n",
        "            'vocab_size' : 20_000,\n",
        "        }\n",
        "    },\n",
        "    'data' : {\n",
        "        'dataset_name' : 'opus',\n",
        "        'load_pcnt' : 20,\n",
        "        'shuffle' : True\n",
        "    },\n",
        "    'preprocessing' : {\n",
        "        'start_token' : '<start>',\n",
        "        'end_token' : '<end>',\n",
        "        'oov_token' : '<unk>',\n",
        "        'padding' : 'post',\n",
        "        'tokenizer_fit_pcnt' : 30\n",
        "    },\n",
        "    'training' : {\n",
        "        'epochs' : 1\n",
        "    },\n",
        "    'logging' : {\n",
        "        'dir' : '/content/out/tensorboard/logs/',\n",
        "        'name' : 'seq2seq machine translation',\n",
        "        'description' : 'NMT using seq2seq model with attention'\n",
        "    }\n",
        "}\n",
        "\n",
        "config = Namespace(**config_dict)"
      ],
      "execution_count": 4,
      "outputs": []
    },
    {
      "cell_type": "code",
      "metadata": {
        "id": "TFkyOppErvHW",
        "colab": {
          "base_uri": "https://localhost:8080/"
        },
        "outputId": "5e455286-3ada-4426-a18f-97860fee76f3"
      },
      "source": [
        "device_name = tf.test.gpu_device_name()\n",
        "if device_name != '/device:GPU:0':\n",
        "    print('GPU device not found')\n",
        "else:\n",
        "    print('Found GPU at: {}'.format(device_name))"
      ],
      "execution_count": 5,
      "outputs": [
        {
          "output_type": "stream",
          "text": [
            "Found GPU at: /device:GPU:0\n"
          ],
          "name": "stdout"
        }
      ]
    },
    {
      "cell_type": "code",
      "metadata": {
        "id": "5kmVeEd_NRgw",
        "colab": {
          "base_uri": "https://localhost:8080/"
        },
        "outputId": "7000e6e3-6dc1-48dd-ee9e-08761f7fa428"
      },
      "source": [
        "try:\n",
        "  tpu = tf.distribute.cluster_resolver.TPUClusterResolver()  # TPU detection\n",
        "  print('Running on TPU ', tpu.cluster_spec().as_dict()['worker'])\n",
        "except ValueError:\n",
        "  print('Not connected to a TPU runtime')"
      ],
      "execution_count": 6,
      "outputs": [
        {
          "output_type": "stream",
          "text": [
            "Not connected to a TPU runtime\n"
          ],
          "name": "stdout"
        }
      ]
    },
    {
      "cell_type": "code",
      "metadata": {
        "id": "5iypoagmSh3e"
      },
      "source": [
        "logger = TB_Logger(config.logging.dir)"
      ],
      "execution_count": 7,
      "outputs": []
    },
    {
      "cell_type": "code",
      "metadata": {
        "id": "WWGQout8gG-H"
      },
      "source": [
        "dataset_train = tfds.load(config.data.dataset_name, split=f'train[:{config.data.load_pcnt}%]', batch_size=-1, shuffle_files=config.data.shuffle)\n",
        "ds_np = tfds.as_numpy(dataset_train)"
      ],
      "execution_count": 8,
      "outputs": []
    },
    {
      "cell_type": "code",
      "metadata": {
        "id": "_0zG3MIS_1LB"
      },
      "source": [
        "class DataGenerator(tf.keras.utils.Sequence):\n",
        "    link = 'https://stanford.edu/~shervine/blog/keras-how-to-generate-data-on-the-fly'\n",
        "    def __init__(self, file_locs, batch_size, shuffle=True):\n",
        "        self.file_locs = file_locs\n",
        "        self.batch_size = batch_size\n",
        "        self.shuffle = shuffle\n",
        "        \n",
        "        self.on_epoch_end()\n",
        "        \n",
        "    def on_epoch_end(self):\n",
        "        '''\n",
        "        Performs end-of-epoch operations like shuffling data,\n",
        "        printing info etc.\n",
        "        '''\n",
        "        if self.shuffle == True:\n",
        "            self.metadata = shuffle(self.metadata)\n",
        "            \n",
        "    def __generate_data(self, batch_metadata):\n",
        "        df = pd.DataFrame(columns=['filename', 'X'])\n",
        "        \n",
        "        for i, r in batch_metadata.iterrows():\n",
        "            X_row = extract(self.file_locs[i], sr=self.sr)\n",
        "            df = df.append({'filename':i, 'X':X_row}, ignore_index=True)\n",
        "        \n",
        "        df.set_index('filename', drop=True, inplace=True)\n",
        "        df_batch = df.join(batch_metadata, how='inner')\n",
        "        self.df = df\n",
        "        self.df_batch = df_batch\n",
        "        \n",
        "        X_batch = np.stack(np.array(df_batch['X'])) # Workaround. Needs fix\n",
        "        \n",
        "        Y_batch_ = np.array(df_batch[self.label])\n",
        "        Y_batch_ = self.le.transform(Y_batch_)\n",
        "        Y_batch = Y_batch_ #tf.keras.utils.to_categorical(Y_batch_, num_classes=self.num_classes)\n",
        "        \n",
        "        return X_batch, Y_batch\n",
        "        \n",
        "    def __len__(self):\n",
        "        return int(np.floor(self.metadata.shape[0] / self.batch_size))\n",
        "    \n",
        "    def __getitem__(self, index):\n",
        "        batch_metadata = self.metadata.iloc[index*self.batch_size:(index+1)*self.batch_size, :]\n",
        "        return self.__generate_data(batch_metadata)"
      ],
      "execution_count": 9,
      "outputs": []
    },
    {
      "cell_type": "code",
      "metadata": {
        "id": "f-dx2pyK-_LL"
      },
      "source": [
        "def preprocess_sentence(w, max_len):\n",
        "    w = w.decode().lower().strip()\n",
        "\n",
        "    # creating a space between a word and the punctuation following it\n",
        "    # eg: \"he is a boy.\" => \"he is a boy .\"\n",
        "    # Reference:- https://stackoverflow.com/questions/3645931/python-padding-punctuation-with-white-spaces-keeping-punctuation\n",
        "    w = re.sub(r\"([?.!,¿])\", r\" \\1 \", w)\n",
        "    w = re.sub(r'[\" \"]+', \" \", w)\n",
        "\n",
        "    # replacing everything with space except (a-z, A-Z, \".\", \"?\", \"!\", \",\")\n",
        "    w = re.sub(r\"[^a-zA-Z?.!,¿]+\", \" \", w)\n",
        "\n",
        "    w = w.strip()\n",
        "\n",
        "    w = ' '.join(w.split()[:max_len])\n",
        "\n",
        "    # adding a start and an end token to the sentence\n",
        "    # so that the model know when to start and stop predicting.\n",
        "    w = f'{config.preprocessing.start_token} {w} {config.preprocessing.end_token}'\n",
        "    return w"
      ],
      "execution_count": 10,
      "outputs": []
    },
    {
      "cell_type": "code",
      "metadata": {
        "id": "fKqlJpudIBTD"
      },
      "source": [
        "def preprocess_data(data, max_len):\n",
        "    res = []\n",
        "    for sentence in data:\n",
        "        res.append(preprocess_sentence(sentence, max_len))\n",
        "    return np.array(res)"
      ],
      "execution_count": 11,
      "outputs": []
    },
    {
      "cell_type": "code",
      "metadata": {
        "id": "3p0J-B6dGj9c",
        "colab": {
          "base_uri": "https://localhost:8080/"
        },
        "outputId": "4b064f65-caa6-441c-d574-538a372863fe"
      },
      "source": [
        "lang_tokenizer = {}\n",
        "preprocessed_dataset = {}\n",
        "\n",
        "for lang in config.languages:\n",
        "    print(f'Preprocessing {lang.name}')\n",
        "    tokenizer = tf.keras.preprocessing.text.Tokenizer(\n",
        "        num_words=lang.vocab_size,\n",
        "        filters='',\n",
        "        oov_token=config.preprocessing.oov_token\n",
        "        )\n",
        "    preprocessed_data = preprocess_data(ds_np[lang.name], lang.sentence_maxlen)\n",
        "    tokenizer.fit_on_texts(preprocessed_data)\n",
        "    lang_tokenizer[lang.name] = tokenizer\n",
        "\n",
        "    tensor = tokenizer.texts_to_sequences(preprocessed_data)\n",
        "    tensor = tf.keras.preprocessing.sequence.pad_sequences(tensor, padding=config.preprocessing.padding)\n",
        "    preprocessed_dataset[lang.name] = tensor"
      ],
      "execution_count": 12,
      "outputs": [
        {
          "output_type": "stream",
          "text": [
            "Preprocessing en\n",
            "Preprocessing de\n"
          ],
          "name": "stdout"
        }
      ]
    },
    {
      "cell_type": "code",
      "metadata": {
        "id": "EyJI-cECVJMC"
      },
      "source": [
        "dataset = tf.data.Dataset.from_tensor_slices((\n",
        "    preprocessed_dataset[config.languages.input.name],\n",
        "    preprocessed_dataset[config.languages.target.name]\n",
        "    ))\n",
        "dataset = dataset.batch(config.model.batch_size, drop_remainder=True)"
      ],
      "execution_count": 13,
      "outputs": []
    },
    {
      "cell_type": "code",
      "metadata": {
        "id": "5SZn3zpaV3pU"
      },
      "source": [
        "steps_per_epoch = len(dataset)\n",
        "\n",
        "vocab_input_size = len(lang_tokenizer[config.languages.input.name].word_index)+1\n",
        "vocab_target_size = len(lang_tokenizer[config.languages.target.name].word_index)+1"
      ],
      "execution_count": 14,
      "outputs": []
    },
    {
      "cell_type": "code",
      "metadata": {
        "id": "jAat1xQtWSan",
        "colab": {
          "base_uri": "https://localhost:8080/"
        },
        "outputId": "4dde68c4-5725-4f91-9dc6-29974c1f1889"
      },
      "source": [
        "example_input_batch, example_target_batch = next(iter(dataset))\n",
        "example_input_batch.shape, example_target_batch.shape"
      ],
      "execution_count": 15,
      "outputs": [
        {
          "output_type": "execute_result",
          "data": {
            "text/plain": [
              "(TensorShape([32, 32]), TensorShape([32, 32]))"
            ]
          },
          "metadata": {
            "tags": []
          },
          "execution_count": 15
        }
      ]
    },
    {
      "cell_type": "code",
      "metadata": {
        "id": "k6HeF0Mv8CRS"
      },
      "source": [
        "max_len_inp = preprocessed_dataset[config.languages.input.name].shape[1]\n",
        "max_len_targ = preprocessed_dataset[config.languages.target.name].shape[1]"
      ],
      "execution_count": 16,
      "outputs": []
    },
    {
      "cell_type": "markdown",
      "metadata": {
        "id": "UJqs8KhXc76K"
      },
      "source": [
        "## Keras\n",
        "\n",
        "Source: [Tensorflow NMT tutorial](https://www.tensorflow.org/tutorials/text/nmt_with_attention)"
      ]
    },
    {
      "cell_type": "code",
      "metadata": {
        "id": "PUt7-mIZc3Vz"
      },
      "source": [
        "class Encoder(tf.keras.Model):\n",
        "  def __init__(self, vocab_size, embedding_dim, enc_units, batch_sz):\n",
        "    super(Encoder, self).__init__()\n",
        "    self.batch_sz = batch_sz\n",
        "    self.enc_units = enc_units\n",
        "    self.embedding = tf.keras.layers.Embedding(vocab_size, embedding_dim)\n",
        "    self.gru = tf.keras.layers.GRU(self.enc_units,\n",
        "                                   return_sequences=True,\n",
        "                                   return_state=True,\n",
        "                                   recurrent_initializer='glorot_uniform')\n",
        "\n",
        "  def call(self, x, hidden):\n",
        "    x = self.embedding(x)\n",
        "    output, state = self.gru(x, initial_state=hidden)\n",
        "    return output, state\n",
        "\n",
        "  def initialize_hidden_state(self):\n",
        "    return tf.zeros((self.batch_sz, self.enc_units))"
      ],
      "execution_count": 17,
      "outputs": []
    },
    {
      "cell_type": "code",
      "metadata": {
        "id": "DSmKsAw13NGd",
        "colab": {
          "base_uri": "https://localhost:8080/"
        },
        "outputId": "74e7970c-c88f-4bdd-f708-6d5e1e9c77f6"
      },
      "source": [
        "encoder = Encoder(vocab_input_size, config.model.embedding_size, config.model.n_units, config.model.batch_size)\n",
        "\n",
        "# sample input\n",
        "sample_hidden = encoder.initialize_hidden_state()\n",
        "sample_output, sample_hidden = encoder(example_input_batch, sample_hidden)\n",
        "print('Encoder output shape: (batch size, sequence length, units)', sample_output.shape)\n",
        "print('Encoder Hidden state shape: (batch size, units)', sample_hidden.shape)"
      ],
      "execution_count": 18,
      "outputs": [
        {
          "output_type": "stream",
          "text": [
            "Encoder output shape: (batch size, sequence length, units) (32, 32, 1024)\n",
            "Encoder Hidden state shape: (batch size, units) (32, 1024)\n"
          ],
          "name": "stdout"
        }
      ]
    },
    {
      "cell_type": "code",
      "metadata": {
        "id": "3HadZkjkjVuj"
      },
      "source": [
        "class BahdanauAttention(tf.keras.layers.Layer):\n",
        "  def __init__(self, units):\n",
        "    super(BahdanauAttention, self).__init__()\n",
        "    self.W1 = tf.keras.layers.Dense(units)\n",
        "    self.W2 = tf.keras.layers.Dense(units)\n",
        "    self.V = tf.keras.layers.Dense(1)\n",
        "\n",
        "  def call(self, query, values):\n",
        "    # query hidden state shape == (batch_size, hidden size)\n",
        "    # query_with_time_axis shape == (batch_size, 1, hidden size)\n",
        "    # values shape == (batch_size, max_len, hidden size)\n",
        "    # we are doing this to broadcast addition along the time axis to calculate the score\n",
        "    query_with_time_axis = tf.expand_dims(query, 1)\n",
        "\n",
        "    # score shape == (batch_size, max_length, 1)\n",
        "    # we get 1 at the last axis because we are applying score to self.V\n",
        "    # the shape of the tensor before applying self.V is (batch_size, max_length, units)\n",
        "    score = self.V(tf.nn.tanh(\n",
        "        self.W1(query_with_time_axis) + self.W2(values)))\n",
        "\n",
        "    # attention_weights shape == (batch_size, max_length, 1)\n",
        "    attention_weights = tf.nn.softmax(score, axis=1)\n",
        "\n",
        "    # context_vector shape after sum == (batch_size, hidden_size)\n",
        "    context_vector = attention_weights * values\n",
        "    context_vector = tf.reduce_sum(context_vector, axis=1)\n",
        "\n",
        "    return context_vector, attention_weights"
      ],
      "execution_count": 19,
      "outputs": []
    },
    {
      "cell_type": "code",
      "metadata": {
        "id": "c-kb7fComx3C",
        "colab": {
          "base_uri": "https://localhost:8080/"
        },
        "outputId": "959cfa4d-8773-4ffa-8e64-5a9773d63511"
      },
      "source": [
        "attention_layer = BahdanauAttention(10)\n",
        "attention_result, attention_weights = attention_layer(sample_hidden, sample_output)\n",
        "\n",
        "print(\"Attention result shape: (batch size, units)\", attention_result.shape)\n",
        "print(\"Attention weights shape: (batch_size, sequence_length, 1)\", attention_weights.shape)"
      ],
      "execution_count": 20,
      "outputs": [
        {
          "output_type": "stream",
          "text": [
            "Attention result shape: (batch size, units) (32, 1024)\n",
            "Attention weights shape: (batch_size, sequence_length, 1) (32, 32, 1)\n"
          ],
          "name": "stdout"
        }
      ]
    },
    {
      "cell_type": "code",
      "metadata": {
        "id": "CVmRySLCmx0_"
      },
      "source": [
        "class Decoder(tf.keras.Model):\n",
        "  def __init__(self, recurrent_cell, vocab_size, embedding_dim, dec_units, batch_sz):\n",
        "    super(Decoder, self).__init__()\n",
        "    self.batch_sz = batch_sz\n",
        "    self.dec_units = dec_units\n",
        "    self.embedding = tf.keras.layers.Embedding(vocab_size, embedding_dim)\n",
        "    self.recurrent_cell = recurrent_cell\n",
        "    self.gru = tf.keras.layers.GRU(self.dec_units,\n",
        "                                   return_sequences=True,\n",
        "                                   return_state=True,\n",
        "                                   recurrent_initializer='glorot_uniform')\n",
        "    self.lstm = tf.keras.layers.LSTM(self.dec_units,\n",
        "                                     return_sequences=True,\n",
        "                                     return_state=True)\n",
        "    self.fc = tf.keras.layers.Dense(vocab_size)\n",
        "\n",
        "    # used for attention\n",
        "    self.attention = BahdanauAttention(self.dec_units)\n",
        "\n",
        "  def call(self, x, hidden, enc_output):\n",
        "    # enc_output shape == (batch_size, max_length, hidden_size)\n",
        "    context_vector, attention_weights = self.attention(hidden, enc_output)\n",
        "\n",
        "    # x shape after passing through embedding == (batch_size, 1, embedding_dim)\n",
        "    x = self.embedding(x)\n",
        "\n",
        "    # x shape after concatenation == (batch_size, 1, embedding_dim + hidden_size)\n",
        "    x = tf.concat([tf.expand_dims(context_vector, 1), x], axis=-1)\n",
        "\n",
        "    if self.recurrent_cell=='GRU':\n",
        "        # passing the concatenated vector to the GRU\n",
        "        output, state = self.gru(x)\n",
        "    elif self.recurrent_cell=='LSTM':\n",
        "        output, state, _ = self.lstm(x)\n",
        "    else:\n",
        "        raise Exception('Invalid recurrent cell')\n",
        "\n",
        "    # output shape == (batch_size * 1, hidden_size)\n",
        "    output = tf.reshape(output, (-1, output.shape[2]))\n",
        "\n",
        "    # output shape == (batch_size, vocab)\n",
        "    x = self.fc(output)\n",
        "\n",
        "    return x, state, attention_weights"
      ],
      "execution_count": 21,
      "outputs": []
    },
    {
      "cell_type": "code",
      "metadata": {
        "id": "-gPNCU07mxy9",
        "colab": {
          "base_uri": "https://localhost:8080/"
        },
        "outputId": "ff48e2ef-5e0a-4852-c98d-6bc05ce40160"
      },
      "source": [
        "decoder = Decoder(config.model.recurrent_cell, vocab_target_size, config.model.embedding_size, config.model.n_units, config.model.batch_size)\n",
        "\n",
        "sample_decoder_output, _, _ = decoder(tf.random.uniform((config.model.batch_size, 1)),\n",
        "                                      sample_hidden, sample_output)\n",
        "\n",
        "print('Decoder output shape: (batch_size, vocab size)', sample_decoder_output.shape)"
      ],
      "execution_count": 22,
      "outputs": [
        {
          "output_type": "stream",
          "text": [
            "Decoder output shape: (batch_size, vocab size) (32, 43497)\n"
          ],
          "name": "stdout"
        }
      ]
    },
    {
      "cell_type": "code",
      "metadata": {
        "id": "8iJp1zO3mxxc"
      },
      "source": [
        "optimizer = tf.keras.optimizers.Adam()\n",
        "loss_object = tf.keras.losses.SparseCategoricalCrossentropy(from_logits=True,\n",
        "                                                            reduction='none')\n",
        "\n",
        "\n",
        "def loss_function(real, pred):\n",
        "    mask = tf.math.logical_not(tf.math.equal(real, 0))\n",
        "    loss_ = loss_object(real, pred)\n",
        "\n",
        "    mask = tf.cast(mask, dtype=loss_.dtype)\n",
        "    loss_ *= mask\n",
        "\n",
        "    return tf.reduce_mean(loss_)"
      ],
      "execution_count": 23,
      "outputs": []
    },
    {
      "cell_type": "code",
      "metadata": {
        "id": "fcxJ9Y56mxvv"
      },
      "source": [
        "checkpoint_dir = '/content/out/training_checkpoints'\n",
        "checkpoint_prefix = os.path.join(checkpoint_dir, \"ckpt\")\n",
        "checkpoint = tf.train.Checkpoint(optimizer=optimizer,\n",
        "                                 encoder=encoder,\n",
        "                                 decoder=decoder)"
      ],
      "execution_count": 24,
      "outputs": []
    },
    {
      "cell_type": "code",
      "metadata": {
        "id": "AJovMKqxmxta"
      },
      "source": [
        "@tf.function\n",
        "def train_step(inp, targ, enc_hidden):\n",
        "    loss = 0\n",
        "\n",
        "    with tf.GradientTape() as tape:\n",
        "        enc_output, enc_hidden = encoder(inp, enc_hidden)\n",
        "\n",
        "        dec_hidden = enc_hidden\n",
        "\n",
        "        dec_input = tf.expand_dims([lang_tokenizer[config.languages.target.name].word_index[config.preprocessing.start_token]] * config.model.batch_size, 1)\n",
        "\n",
        "        # Teacher forcing - feeding the target as the next input\n",
        "        for t in range(1, targ.shape[1]):\n",
        "        # passing enc_output to the decoder\n",
        "            predictions, dec_hidden, _ = decoder(dec_input, dec_hidden, enc_output)\n",
        "\n",
        "            loss += loss_function(targ[:, t], predictions)\n",
        "\n",
        "            # using teacher forcing\n",
        "            dec_input = tf.expand_dims(targ[:, t], 1)\n",
        "\n",
        "    batch_loss = (loss / int(targ.shape[1]))\n",
        "\n",
        "    variables = encoder.trainable_variables + decoder.trainable_variables\n",
        "\n",
        "    gradients = tape.gradient(loss, variables)\n",
        "\n",
        "    optimizer.apply_gradients(zip(gradients, variables))\n",
        "\n",
        "    return batch_loss"
      ],
      "execution_count": 25,
      "outputs": []
    },
    {
      "cell_type": "code",
      "metadata": {
        "id": "90nMxDjN-DqI",
        "outputId": "bdbd1a8f-a9b7-40f2-e679-b16a0c14b0ef",
        "colab": {
          "base_uri": "https://localhost:8080/"
        }
      },
      "source": [
        "# Emperical estimate of time on colab for opus\n",
        "\n",
        "est_time = 0.02667*config.data.load_pcnt*config.training.epochs\n",
        "\n",
        "print(f'Estimated training time: {est_time:.2f} hrs.')"
      ],
      "execution_count": 26,
      "outputs": [
        {
          "output_type": "stream",
          "text": [
            "Estimated training time: 0.53 hrs.\n"
          ],
          "name": "stdout"
        }
      ]
    },
    {
      "cell_type": "code",
      "metadata": {
        "id": "WybBwGZtna74",
        "colab": {
          "base_uri": "https://localhost:8080/"
        },
        "outputId": "1ca056f2-bad1-468d-f067-1262df5358be"
      },
      "source": [
        "for epoch in range(config.training.epochs):\n",
        "    start = time.time()\n",
        "\n",
        "    enc_hidden = encoder.initialize_hidden_state()\n",
        "    total_loss = 0\n",
        "\n",
        "    for (batch, (inp, targ)) in enumerate(dataset.take(steps_per_epoch)):       \n",
        "        batch_loss = train_step(inp, targ, enc_hidden)\n",
        "        total_loss += batch_loss\n",
        "\n",
        "        logger.log_scalar('batch_loss', batch_loss, step=batch)\n",
        "\n",
        "        if batch % 100 == 0:\n",
        "            print(f'Epoch {epoch+1} Batch {batch} Loss {batch_loss.numpy():.4f}')\n",
        "    \n",
        "    logger.log_scalar('total_loss', total_loss, step=epoch)\n",
        "    # saving (checkpoint) the model every 2 epochs\n",
        "    # if (epoch + 1) % 2 == 0:\n",
        "    checkpoint.save(file_prefix=checkpoint_prefix)\n",
        "\n",
        "    print(f'Epoch {epoch+1} Loss {total_loss/steps_per_epoch:.4f}')\n",
        "    print(f'Time taken for 1 epoch {time.time()-start:.2f} sec\\n')"
      ],
      "execution_count": 27,
      "outputs": [
        {
          "output_type": "stream",
          "text": [
            "Epoch 1 Batch 0 Loss 3.9530\n",
            "Epoch 1 Batch 100 Loss 2.5282\n",
            "Epoch 1 Batch 200 Loss 2.1872\n",
            "Epoch 1 Batch 300 Loss 1.8596\n",
            "Epoch 1 Batch 400 Loss 2.7386\n",
            "Epoch 1 Batch 500 Loss 2.0951\n",
            "Epoch 1 Batch 600 Loss 2.4958\n",
            "Epoch 1 Batch 700 Loss 1.6864\n",
            "Epoch 1 Batch 800 Loss 2.1364\n",
            "Epoch 1 Batch 900 Loss 1.8194\n",
            "Epoch 1 Batch 1000 Loss 0.9551\n",
            "Epoch 1 Batch 1100 Loss 1.9577\n",
            "Epoch 1 Batch 1200 Loss 1.5099\n",
            "Epoch 1 Batch 1300 Loss 1.8507\n",
            "Epoch 1 Batch 1400 Loss 1.4179\n",
            "Epoch 1 Batch 1500 Loss 1.4907\n",
            "Epoch 1 Batch 1600 Loss 1.2693\n",
            "Epoch 1 Batch 1700 Loss 1.7232\n",
            "Epoch 1 Batch 1800 Loss 1.3849\n",
            "Epoch 1 Batch 1900 Loss 1.4567\n",
            "Epoch 1 Batch 2000 Loss 1.7042\n",
            "Epoch 1 Batch 2100 Loss 1.4860\n",
            "Epoch 1 Batch 2200 Loss 1.0506\n",
            "Epoch 1 Batch 2300 Loss 1.7530\n",
            "Epoch 1 Batch 2400 Loss 1.3665\n",
            "Epoch 1 Batch 2500 Loss 1.2023\n",
            "Epoch 1 Batch 2600 Loss 1.4430\n",
            "Epoch 1 Batch 2700 Loss 1.3134\n",
            "Epoch 1 Batch 2800 Loss 1.1136\n",
            "Epoch 1 Batch 2900 Loss 0.8987\n",
            "Epoch 1 Batch 3000 Loss 1.2144\n",
            "Epoch 1 Batch 3100 Loss 0.7904\n",
            "Epoch 1 Batch 3200 Loss 0.9741\n",
            "Epoch 1 Batch 3300 Loss 1.2340\n",
            "Epoch 1 Batch 3400 Loss 1.2988\n",
            "Epoch 1 Batch 3500 Loss 1.1125\n",
            "Epoch 1 Batch 3600 Loss 1.3763\n",
            "Epoch 1 Batch 3700 Loss 0.7477\n",
            "Epoch 1 Batch 3800 Loss 1.2632\n",
            "Epoch 1 Batch 3900 Loss 1.5902\n",
            "Epoch 1 Batch 4000 Loss 1.6981\n",
            "Epoch 1 Batch 4100 Loss 1.1571\n",
            "Epoch 1 Batch 4200 Loss 1.2997\n",
            "Epoch 1 Batch 4300 Loss 0.8101\n",
            "Epoch 1 Batch 4400 Loss 0.9977\n",
            "Epoch 1 Batch 4500 Loss 1.2517\n",
            "Epoch 1 Batch 4600 Loss 0.8792\n",
            "Epoch 1 Batch 4700 Loss 1.3075\n",
            "Epoch 1 Batch 4800 Loss 1.1422\n",
            "Epoch 1 Batch 4900 Loss 0.9445\n",
            "Epoch 1 Batch 5000 Loss 0.9912\n",
            "Epoch 1 Batch 5100 Loss 1.2328\n",
            "Epoch 1 Batch 5200 Loss 1.0899\n",
            "Epoch 1 Batch 5300 Loss 1.0212\n",
            "Epoch 1 Batch 5400 Loss 0.8271\n",
            "Epoch 1 Batch 5500 Loss 1.2295\n",
            "Epoch 1 Batch 5600 Loss 0.9227\n",
            "Epoch 1 Batch 5700 Loss 1.1850\n",
            "Epoch 1 Batch 5800 Loss 0.9118\n",
            "Epoch 1 Batch 5900 Loss 1.4484\n",
            "Epoch 1 Batch 6000 Loss 0.7439\n",
            "Epoch 1 Batch 6100 Loss 0.5170\n",
            "Epoch 1 Batch 6200 Loss 0.9623\n",
            "Epoch 1 Batch 6300 Loss 0.7738\n",
            "Epoch 1 Batch 6400 Loss 0.9482\n",
            "Epoch 1 Batch 6500 Loss 0.6836\n",
            "Epoch 1 Batch 6600 Loss 0.6525\n",
            "Epoch 1 Batch 6700 Loss 0.8966\n",
            "Epoch 1 Batch 6800 Loss 0.8875\n",
            "Epoch 1 Batch 6900 Loss 1.0643\n",
            "Epoch 1 Loss 1.2952\n",
            "Time taken for 1 epoch 3053.55 sec\n",
            "\n"
          ],
          "name": "stdout"
        }
      ]
    },
    {
      "cell_type": "code",
      "metadata": {
        "id": "k9bPFVrZXLud"
      },
      "source": [
        "def evaluate(sentence):\n",
        "    attention_plot = np.zeros((max_len_targ, max_len_inp))\n",
        "\n",
        "    sentence = preprocess_sentence(sentence, config.languages.input.sentence_maxlen)\n",
        "    oov_index = lang_tokenizer[config.languages.input.name].word_index[config.preprocessing.oov_token]\n",
        "    inputs = [lang_tokenizer[config.languages.input.name].word_index.get(i, oov_index) for i in sentence.split(' ')]\n",
        "    inputs = tf.keras.preprocessing.sequence.pad_sequences([inputs],\n",
        "                                                            maxlen=max_len_inp,\n",
        "                                                            padding=config.preprocessing.padding)\n",
        "    inputs = tf.convert_to_tensor(inputs)\n",
        "\n",
        "    result = ''\n",
        "\n",
        "    hidden = [tf.zeros((1, config.model.n_units))]\n",
        "    enc_out, enc_hidden = encoder(inputs, hidden)\n",
        "\n",
        "    dec_hidden = enc_hidden\n",
        "    dec_input = tf.expand_dims([lang_tokenizer[config.languages.target.name].word_index[config.preprocessing.start_token]], 0)\n",
        "\n",
        "    for t in range(max_len_targ):\n",
        "        predictions, dec_hidden, attention_weights = decoder(dec_input,\n",
        "                                                            dec_hidden,\n",
        "                                                            enc_out)\n",
        "\n",
        "        # storing the attention weights to plot later on\n",
        "        attention_weights = tf.reshape(attention_weights, (-1, ))\n",
        "        attention_plot[t] = attention_weights.numpy()\n",
        "\n",
        "        predicted_id = tf.argmax(predictions[0]).numpy() # Greedy\n",
        "\n",
        "        result += lang_tokenizer[config.languages.target.name].index_word[predicted_id] + ' '\n",
        "\n",
        "        if lang_tokenizer[config.languages.target.name].index_word[predicted_id] == config.preprocessing.end_token:\n",
        "            return result, sentence, attention_plot\n",
        "\n",
        "        # the predicted ID is fed back into the model\n",
        "        dec_input = tf.expand_dims([predicted_id], 0)\n",
        "\n",
        "    return result, sentence, attention_plot"
      ],
      "execution_count": 28,
      "outputs": []
    },
    {
      "cell_type": "code",
      "metadata": {
        "id": "-zZs-2K1QIZD"
      },
      "source": [
        "def plot_attention(attention, sentence, predicted_sentence):\n",
        "    fig = plt.figure(figsize=(10, 10))\n",
        "    ax = fig.add_subplot(1, 1, 1)\n",
        "    ax.matshow(attention, cmap='gray')\n",
        "\n",
        "    fontdict = {'fontsize': 14}\n",
        "\n",
        "    ax.set_xticklabels([''] + sentence, fontdict=fontdict, rotation=90)\n",
        "    ax.set_yticklabels([''] + predicted_sentence, fontdict=fontdict)\n",
        "\n",
        "    ax.xaxis.set_major_locator(ticker.MultipleLocator(1))\n",
        "    ax.yaxis.set_major_locator(ticker.MultipleLocator(1))\n",
        "\n",
        "    plt.show()"
      ],
      "execution_count": 29,
      "outputs": []
    },
    {
      "cell_type": "code",
      "metadata": {
        "id": "jkgAftxGQaHX"
      },
      "source": [
        "def translate(sentence):\n",
        "    if type(sentence)==str:\n",
        "        sentence = sentence.encode()\n",
        "    result, sentence, attention_plot = evaluate(sentence)\n",
        "\n",
        "    print('Input:', sentence)\n",
        "    print('Predicted translation:', result)\n",
        "\n",
        "    attention_plot = attention_plot[:len(result.split(' ')),\n",
        "                                    :len(sentence.split(' '))]\n",
        "    plot_attention(attention_plot, sentence.split(' '), result.split(' '))"
      ],
      "execution_count": 30,
      "outputs": []
    },
    {
      "cell_type": "code",
      "metadata": {
        "id": "njUP-0V7qsDL",
        "colab": {
          "base_uri": "https://localhost:8080/",
          "height": 550
        },
        "outputId": "b20302a9-557a-4b2a-9ae5-ebaf89193c1b"
      },
      "source": [
        "translate('There are no known side effects')"
      ],
      "execution_count": 43,
      "outputs": [
        {
          "output_type": "stream",
          "text": [
            "Input: <start> there are no known side effects <end>\n",
            "Predicted translation: es gibt keine bekannt <end> \n"
          ],
          "name": "stdout"
        },
        {
          "output_type": "display_data",
          "data": {
            "image/png": "[encoded data removed]",
            "text/plain": [
              "<Figure size 720x720 with 1 Axes>"
            ]
          },
          "metadata": {
            "tags": [],
            "needs_background": "light"
          }
        }
      ]
    },
    {
      "cell_type": "code",
      "metadata": {
        "id": "iPH9lXINNXi3",
        "colab": {
          "base_uri": "https://localhost:8080/"
        },
        "outputId": "49a9dabb-3daf-488c-f662-53b4bf3b6076"
      },
      "source": [
        "!tensorboard dev upload --logdir {config.logging.dir} \\\n",
        "  --name \"{config.logging.name}\" \\\n",
        "  --description \"{config.logging.description}\" \\\n",
        "  --one_shot"
      ],
      "execution_count": 32,
      "outputs": [
        {
          "output_type": "stream",
          "text": [
            "2021-05-21 18:53:18.210675: I tensorflow/stream_executor/platform/default/dso_loader.cc:49] Successfully opened dynamic library libcudart.so.11.0\n",
            "\n",
            "***** TensorBoard Uploader *****\n",
            "\n",
            "This will upload your TensorBoard logs to https://tensorboard.dev/ from\n",
            "the following directory:\n",
            "\n",
            "/content/out/tensorboard/logs/\n",
            "\n",
            "This TensorBoard will be visible to everyone. Do not upload sensitive\n",
            "data.\n",
            "\n",
            "Your use of this service is subject to Google's Terms of Service\n",
            "<https://policies.google.com/terms> and Privacy Policy\n",
            "<https://policies.google.com/privacy>, and TensorBoard.dev's Terms of Service\n",
            "<https://tensorboard.dev/policy/terms/>.\n",
            "\n",
            "This notice will not be shown again while you are logged into the uploader.\n",
            "To log out, run `tensorboard dev auth revoke`.\n",
            "\n",
            "Continue? (yes/NO) yes\n",
            "\n",
            "Please visit this URL to authorize this application: https://accounts.google.com/o/oauth2/auth?response_type=code&client_id=373649185512-8v619h5kft38l4456nm2dj4ubeqsrvh6.apps.googleusercontent.com&redirect_uri=urn%3Aietf%3Awg%3Aoauth%3A2.0%3Aoob&scope=openid+https%3A%2F%2Fwww.googleapis.com%2Fauth%2Fuserinfo.email&state=ffbirKwtzMVsprcln0FwDE4I8sBKIz&prompt=consent&access_type=offline\n",
            "Enter the authorization code: 4/1AY0e-g46OWyrGYVbaKpGoEincurQxdq9Mip8FuvOmp8PpzPLpiEE2zoOXpE\n",
            "\n",
            "Data for the \"text\" plugin is now uploaded to TensorBoard.dev! Note that uploaded data is public. If you do not want to upload data for this plugin, use the \"--plugins\" command line argument.\n",
            "\n",
            "New experiment created. View your TensorBoard at: https://tensorboard.dev/experiment/HE3oY2ReS0S6ZzC5Has2vw/\n",
            "\n",
            "\u001b[1m[2021-05-21T18:54:16]\u001b[0m Started scanning logdir.\n",
            "\u001b[1m[2021-05-21T18:54:19]\u001b[0m Total uploaded: 10582 scalars, 0 tensors, 0 binary objects\n",
            "\u001b[1m[2021-05-21T18:54:19]\u001b[0m Done scanning logdir.\n",
            "\n",
            "\n",
            "Done. View your TensorBoard at https://tensorboard.dev/experiment/HE3oY2ReS0S6ZzC5Has2vw/\n"
          ],
          "name": "stdout"
        }
      ]
    },
    {
      "cell_type": "code",
      "metadata": {
        "id": "wy-iP6IyNXhB",
        "colab": {
          "base_uri": "https://localhost:8080/",
          "height": 35
        },
        "outputId": "0145b36e-6573-40ed-c7ff-310451f519c1"
      },
      "source": [
        "config.logging.dir"
      ],
      "execution_count": 33,
      "outputs": [
        {
          "output_type": "execute_result",
          "data": {
            "application/vnd.google.colaboratory.intrinsic+json": {
              "type": "string"
            },
            "text/plain": [
              "'/content/out/tensorboard/logs/'"
            ]
          },
          "metadata": {
            "tags": []
          },
          "execution_count": 33
        }
      ]
    },
    {
      "cell_type": "code",
      "metadata": {
        "id": "vL_P0clCNXe4"
      },
      "source": [
        "data_src_1 = '/content/out/training_checkpoints/ckpt-1.data-00000-of-00001'\n",
        "data_dest_1 = '/content/drive/MyDrive/Colab Notebooks/Data/seq2seqcheckpoints/ckpt-1.data-00000-of-00001'\n",
        "\n",
        "data_src_2 = '/content/out/training_checkpoints/ckpt-1.index'\n",
        "data_dest_2 = '/content/drive/MyDrive/Colab Notebooks/Data/seq2seqcheckpoints/ckpt-1.index'"
      ],
      "execution_count": 37,
      "outputs": []
    },
    {
      "cell_type": "code",
      "metadata": {
        "id": "StamxXA-NXcg"
      },
      "source": [
        "d = shutil.copyfile(data_src_2, data_dest_2)"
      ],
      "execution_count": 38,
      "outputs": []
    },
    {
      "cell_type": "code",
      "metadata": {
        "id": "1csevuB96KRL"
      },
      "source": [
        ""
      ],
      "execution_count": null,
      "outputs": []
    }
  ]
}