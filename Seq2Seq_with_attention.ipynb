{
  "nbformat": 4,
  "nbformat_minor": 0,
  "metadata": {
    "colab": {
      "name": "seq2seq-attention.ipynb",
      "provenance": [],
      "toc_visible": true,
      "mount_file_id": "https://github.com/kartik727/neural-machine-translation/blob/master/Seq2Seq_with_attention.ipynb",
      "authorship_tag": "ABX9TyMrtSgZKZNp3ndOSDgHFlL6",
      "include_colab_link": true
    },
    "kernelspec": {
      "name": "python3",
      "display_name": "Python 3"
    },
    "language_info": {
      "name": "python"
    },
    "accelerator": "GPU",
    "widgets": {
      "application/vnd.jupyter.widget-state+json": {
        "af2ecd8665d54e50b971a9be892f8a44": {
          "model_module": "@jupyter-widgets/controls",
          "model_name": "HBoxModel",
          "state": {
            "_view_name": "HBoxView",
            "_dom_classes": [],
            "_model_name": "HBoxModel",
            "_view_module": "@jupyter-widgets/controls",
            "_model_module_version": "1.5.0",
            "_view_count": null,
            "_view_module_version": "1.5.0",
            "box_style": "",
            "layout": "IPY_MODEL_d253eb78409146d79de30743ff553197",
            "_model_module": "@jupyter-widgets/controls",
            "children": [
              "IPY_MODEL_d7221b17b77846968eab4683664f9eef",
              "IPY_MODEL_0787cc1723294c90b35febcbb430f052"
            ]
          }
        },
        "d253eb78409146d79de30743ff553197": {
          "model_module": "@jupyter-widgets/base",
          "model_name": "LayoutModel",
          "state": {
            "_view_name": "LayoutView",
            "grid_template_rows": null,
            "right": null,
            "justify_content": null,
            "_view_module": "@jupyter-widgets/base",
            "overflow": null,
            "_model_module_version": "1.2.0",
            "_view_count": null,
            "flex_flow": null,
            "width": null,
            "min_width": null,
            "border": null,
            "align_items": null,
            "bottom": null,
            "_model_module": "@jupyter-widgets/base",
            "top": null,
            "grid_column": null,
            "overflow_y": null,
            "overflow_x": null,
            "grid_auto_flow": null,
            "grid_area": null,
            "grid_template_columns": null,
            "flex": null,
            "_model_name": "LayoutModel",
            "justify_items": null,
            "grid_row": null,
            "max_height": null,
            "align_content": null,
            "visibility": null,
            "align_self": null,
            "height": null,
            "min_height": null,
            "padding": null,
            "grid_auto_rows": null,
            "grid_gap": null,
            "max_width": null,
            "order": null,
            "_view_module_version": "1.2.0",
            "grid_template_areas": null,
            "object_position": null,
            "object_fit": null,
            "grid_auto_columns": null,
            "margin": null,
            "display": null,
            "left": null
          }
        },
        "d7221b17b77846968eab4683664f9eef": {
          "model_module": "@jupyter-widgets/controls",
          "model_name": "FloatProgressModel",
          "state": {
            "_view_name": "ProgressView",
            "style": "IPY_MODEL_3fb0e0e003f2451b9178ddcd62237f73",
            "_dom_classes": [],
            "description": "Dl Completed...: 100%",
            "_model_name": "FloatProgressModel",
            "bar_style": "success",
            "max": 1,
            "_view_module": "@jupyter-widgets/controls",
            "_model_module_version": "1.5.0",
            "value": 1,
            "_view_count": null,
            "_view_module_version": "1.5.0",
            "orientation": "horizontal",
            "min": 0,
            "description_tooltip": null,
            "_model_module": "@jupyter-widgets/controls",
            "layout": "IPY_MODEL_cb30387a6c3c4c3ca5984dffa4cefa4e"
          }
        },
        "0787cc1723294c90b35febcbb430f052": {
          "model_module": "@jupyter-widgets/controls",
          "model_name": "HTMLModel",
          "state": {
            "_view_name": "HTMLView",
            "style": "IPY_MODEL_0ee19326b7f448bdabbcbe85789c2e8a",
            "_dom_classes": [],
            "description": "",
            "_model_name": "HTMLModel",
            "placeholder": "​",
            "_view_module": "@jupyter-widgets/controls",
            "_model_module_version": "1.5.0",
            "value": " 1/1 [00:03&lt;00:00,  3.70s/ url]",
            "_view_count": null,
            "_view_module_version": "1.5.0",
            "description_tooltip": null,
            "_model_module": "@jupyter-widgets/controls",
            "layout": "IPY_MODEL_3c8e396f6e5b4feba0abda1a4f963021"
          }
        },
        "3fb0e0e003f2451b9178ddcd62237f73": {
          "model_module": "@jupyter-widgets/controls",
          "model_name": "ProgressStyleModel",
          "state": {
            "_view_name": "StyleView",
            "_model_name": "ProgressStyleModel",
            "description_width": "initial",
            "_view_module": "@jupyter-widgets/base",
            "_model_module_version": "1.5.0",
            "_view_count": null,
            "_view_module_version": "1.2.0",
            "bar_color": null,
            "_model_module": "@jupyter-widgets/controls"
          }
        },
        "cb30387a6c3c4c3ca5984dffa4cefa4e": {
          "model_module": "@jupyter-widgets/base",
          "model_name": "LayoutModel",
          "state": {
            "_view_name": "LayoutView",
            "grid_template_rows": null,
            "right": null,
            "justify_content": null,
            "_view_module": "@jupyter-widgets/base",
            "overflow": null,
            "_model_module_version": "1.2.0",
            "_view_count": null,
            "flex_flow": null,
            "width": null,
            "min_width": null,
            "border": null,
            "align_items": null,
            "bottom": null,
            "_model_module": "@jupyter-widgets/base",
            "top": null,
            "grid_column": null,
            "overflow_y": null,
            "overflow_x": null,
            "grid_auto_flow": null,
            "grid_area": null,
            "grid_template_columns": null,
            "flex": null,
            "_model_name": "LayoutModel",
            "justify_items": null,
            "grid_row": null,
            "max_height": null,
            "align_content": null,
            "visibility": null,
            "align_self": null,
            "height": null,
            "min_height": null,
            "padding": null,
            "grid_auto_rows": null,
            "grid_gap": null,
            "max_width": null,
            "order": null,
            "_view_module_version": "1.2.0",
            "grid_template_areas": null,
            "object_position": null,
            "object_fit": null,
            "grid_auto_columns": null,
            "margin": null,
            "display": null,
            "left": null
          }
        },
        "0ee19326b7f448bdabbcbe85789c2e8a": {
          "model_module": "@jupyter-widgets/controls",
          "model_name": "DescriptionStyleModel",
          "state": {
            "_view_name": "StyleView",
            "_model_name": "DescriptionStyleModel",
            "description_width": "",
            "_view_module": "@jupyter-widgets/base",
            "_model_module_version": "1.5.0",
            "_view_count": null,
            "_view_module_version": "1.2.0",
            "_model_module": "@jupyter-widgets/controls"
          }
        },
        "3c8e396f6e5b4feba0abda1a4f963021": {
          "model_module": "@jupyter-widgets/base",
          "model_name": "LayoutModel",
          "state": {
            "_view_name": "LayoutView",
            "grid_template_rows": null,
            "right": null,
            "justify_content": null,
            "_view_module": "@jupyter-widgets/base",
            "overflow": null,
            "_model_module_version": "1.2.0",
            "_view_count": null,
            "flex_flow": null,
            "width": null,
            "min_width": null,
            "border": null,
            "align_items": null,
            "bottom": null,
            "_model_module": "@jupyter-widgets/base",
            "top": null,
            "grid_column": null,
            "overflow_y": null,
            "overflow_x": null,
            "grid_auto_flow": null,
            "grid_area": null,
            "grid_template_columns": null,
            "flex": null,
            "_model_name": "LayoutModel",
            "justify_items": null,
            "grid_row": null,
            "max_height": null,
            "align_content": null,
            "visibility": null,
            "align_self": null,
            "height": null,
            "min_height": null,
            "padding": null,
            "grid_auto_rows": null,
            "grid_gap": null,
            "max_width": null,
            "order": null,
            "_view_module_version": "1.2.0",
            "grid_template_areas": null,
            "object_position": null,
            "object_fit": null,
            "grid_auto_columns": null,
            "margin": null,
            "display": null,
            "left": null
          }
        },
        "7b59e29b57fd49fe87098e3a0318ffb6": {
          "model_module": "@jupyter-widgets/controls",
          "model_name": "HBoxModel",
          "state": {
            "_view_name": "HBoxView",
            "_dom_classes": [],
            "_model_name": "HBoxModel",
            "_view_module": "@jupyter-widgets/controls",
            "_model_module_version": "1.5.0",
            "_view_count": null,
            "_view_module_version": "1.5.0",
            "box_style": "",
            "layout": "IPY_MODEL_3e327a97b34840089bcf1de72e67c752",
            "_model_module": "@jupyter-widgets/controls",
            "children": [
              "IPY_MODEL_495c0bac714748ad9a7bcaeed22389e3",
              "IPY_MODEL_30327e2c210941ffa94b173c3f9fbc6a"
            ]
          }
        },
        "3e327a97b34840089bcf1de72e67c752": {
          "model_module": "@jupyter-widgets/base",
          "model_name": "LayoutModel",
          "state": {
            "_view_name": "LayoutView",
            "grid_template_rows": null,
            "right": null,
            "justify_content": null,
            "_view_module": "@jupyter-widgets/base",
            "overflow": null,
            "_model_module_version": "1.2.0",
            "_view_count": null,
            "flex_flow": null,
            "width": null,
            "min_width": null,
            "border": null,
            "align_items": null,
            "bottom": null,
            "_model_module": "@jupyter-widgets/base",
            "top": null,
            "grid_column": null,
            "overflow_y": null,
            "overflow_x": null,
            "grid_auto_flow": null,
            "grid_area": null,
            "grid_template_columns": null,
            "flex": null,
            "_model_name": "LayoutModel",
            "justify_items": null,
            "grid_row": null,
            "max_height": null,
            "align_content": null,
            "visibility": null,
            "align_self": null,
            "height": null,
            "min_height": null,
            "padding": null,
            "grid_auto_rows": null,
            "grid_gap": null,
            "max_width": null,
            "order": null,
            "_view_module_version": "1.2.0",
            "grid_template_areas": null,
            "object_position": null,
            "object_fit": null,
            "grid_auto_columns": null,
            "margin": null,
            "display": null,
            "left": null
          }
        },
        "495c0bac714748ad9a7bcaeed22389e3": {
          "model_module": "@jupyter-widgets/controls",
          "model_name": "FloatProgressModel",
          "state": {
            "_view_name": "ProgressView",
            "style": "IPY_MODEL_828726028c584bcba50d3dd5efd2d221",
            "_dom_classes": [],
            "description": "Dl Size...: 100%",
            "_model_name": "FloatProgressModel",
            "bar_style": "success",
            "max": 1,
            "_view_module": "@jupyter-widgets/controls",
            "_model_module_version": "1.5.0",
            "value": 1,
            "_view_count": null,
            "_view_module_version": "1.5.0",
            "orientation": "horizontal",
            "min": 0,
            "description_tooltip": null,
            "_model_module": "@jupyter-widgets/controls",
            "layout": "IPY_MODEL_b94d8cfcb06549419f5aead7eed766e8"
          }
        },
        "30327e2c210941ffa94b173c3f9fbc6a": {
          "model_module": "@jupyter-widgets/controls",
          "model_name": "HTMLModel",
          "state": {
            "_view_name": "HTMLView",
            "style": "IPY_MODEL_aa441eb2496444a69b8e8f7f82cc7330",
            "_dom_classes": [],
            "description": "",
            "_model_name": "HTMLModel",
            "placeholder": "​",
            "_view_module": "@jupyter-widgets/controls",
            "_model_module_version": "1.5.0",
            "value": " 34/34 [00:03&lt;00:00,  9.29 MiB/s]",
            "_view_count": null,
            "_view_module_version": "1.5.0",
            "description_tooltip": null,
            "_model_module": "@jupyter-widgets/controls",
            "layout": "IPY_MODEL_a33ccc5b00364d55a0f15df27955ec42"
          }
        },
        "828726028c584bcba50d3dd5efd2d221": {
          "model_module": "@jupyter-widgets/controls",
          "model_name": "ProgressStyleModel",
          "state": {
            "_view_name": "StyleView",
            "_model_name": "ProgressStyleModel",
            "description_width": "initial",
            "_view_module": "@jupyter-widgets/base",
            "_model_module_version": "1.5.0",
            "_view_count": null,
            "_view_module_version": "1.2.0",
            "bar_color": null,
            "_model_module": "@jupyter-widgets/controls"
          }
        },
        "b94d8cfcb06549419f5aead7eed766e8": {
          "model_module": "@jupyter-widgets/base",
          "model_name": "LayoutModel",
          "state": {
            "_view_name": "LayoutView",
            "grid_template_rows": null,
            "right": null,
            "justify_content": null,
            "_view_module": "@jupyter-widgets/base",
            "overflow": null,
            "_model_module_version": "1.2.0",
            "_view_count": null,
            "flex_flow": null,
            "width": null,
            "min_width": null,
            "border": null,
            "align_items": null,
            "bottom": null,
            "_model_module": "@jupyter-widgets/base",
            "top": null,
            "grid_column": null,
            "overflow_y": null,
            "overflow_x": null,
            "grid_auto_flow": null,
            "grid_area": null,
            "grid_template_columns": null,
            "flex": null,
            "_model_name": "LayoutModel",
            "justify_items": null,
            "grid_row": null,
            "max_height": null,
            "align_content": null,
            "visibility": null,
            "align_self": null,
            "height": null,
            "min_height": null,
            "padding": null,
            "grid_auto_rows": null,
            "grid_gap": null,
            "max_width": null,
            "order": null,
            "_view_module_version": "1.2.0",
            "grid_template_areas": null,
            "object_position": null,
            "object_fit": null,
            "grid_auto_columns": null,
            "margin": null,
            "display": null,
            "left": null
          }
        },
        "aa441eb2496444a69b8e8f7f82cc7330": {
          "model_module": "@jupyter-widgets/controls",
          "model_name": "DescriptionStyleModel",
          "state": {
            "_view_name": "StyleView",
            "_model_name": "DescriptionStyleModel",
            "description_width": "",
            "_view_module": "@jupyter-widgets/base",
            "_model_module_version": "1.5.0",
            "_view_count": null,
            "_view_module_version": "1.2.0",
            "_model_module": "@jupyter-widgets/controls"
          }
        },
        "a33ccc5b00364d55a0f15df27955ec42": {
          "model_module": "@jupyter-widgets/base",
          "model_name": "LayoutModel",
          "state": {
            "_view_name": "LayoutView",
            "grid_template_rows": null,
            "right": null,
            "justify_content": null,
            "_view_module": "@jupyter-widgets/base",
            "overflow": null,
            "_model_module_version": "1.2.0",
            "_view_count": null,
            "flex_flow": null,
            "width": null,
            "min_width": null,
            "border": null,
            "align_items": null,
            "bottom": null,
            "_model_module": "@jupyter-widgets/base",
            "top": null,
            "grid_column": null,
            "overflow_y": null,
            "overflow_x": null,
            "grid_auto_flow": null,
            "grid_area": null,
            "grid_template_columns": null,
            "flex": null,
            "_model_name": "LayoutModel",
            "justify_items": null,
            "grid_row": null,
            "max_height": null,
            "align_content": null,
            "visibility": null,
            "align_self": null,
            "height": null,
            "min_height": null,
            "padding": null,
            "grid_auto_rows": null,
            "grid_gap": null,
            "max_width": null,
            "order": null,
            "_view_module_version": "1.2.0",
            "grid_template_areas": null,
            "object_position": null,
            "object_fit": null,
            "grid_auto_columns": null,
            "margin": null,
            "display": null,
            "left": null
          }
        },
        "18461934f88249bfbc5eaff523ea36f6": {
          "model_module": "@jupyter-widgets/controls",
          "model_name": "HBoxModel",
          "state": {
            "_view_name": "HBoxView",
            "_dom_classes": [],
            "_model_name": "HBoxModel",
            "_view_module": "@jupyter-widgets/controls",
            "_model_module_version": "1.5.0",
            "_view_count": null,
            "_view_module_version": "1.5.0",
            "box_style": "",
            "layout": "IPY_MODEL_6435c47e398c4ff99d36687f20cd731f",
            "_model_module": "@jupyter-widgets/controls",
            "children": [
              "IPY_MODEL_6f7c22d0b6444ed8aff3b11dfc4f32f5",
              "IPY_MODEL_cfeed9cbd39d4480858fea999447615b"
            ]
          }
        },
        "6435c47e398c4ff99d36687f20cd731f": {
          "model_module": "@jupyter-widgets/base",
          "model_name": "LayoutModel",
          "state": {
            "_view_name": "LayoutView",
            "grid_template_rows": null,
            "right": null,
            "justify_content": null,
            "_view_module": "@jupyter-widgets/base",
            "overflow": null,
            "_model_module_version": "1.2.0",
            "_view_count": null,
            "flex_flow": null,
            "width": null,
            "min_width": null,
            "border": null,
            "align_items": null,
            "bottom": null,
            "_model_module": "@jupyter-widgets/base",
            "top": null,
            "grid_column": null,
            "overflow_y": null,
            "overflow_x": null,
            "grid_auto_flow": null,
            "grid_area": null,
            "grid_template_columns": null,
            "flex": null,
            "_model_name": "LayoutModel",
            "justify_items": null,
            "grid_row": null,
            "max_height": null,
            "align_content": null,
            "visibility": null,
            "align_self": null,
            "height": null,
            "min_height": null,
            "padding": null,
            "grid_auto_rows": null,
            "grid_gap": null,
            "max_width": null,
            "order": null,
            "_view_module_version": "1.2.0",
            "grid_template_areas": null,
            "object_position": null,
            "object_fit": null,
            "grid_auto_columns": null,
            "margin": null,
            "display": null,
            "left": null
          }
        },
        "6f7c22d0b6444ed8aff3b11dfc4f32f5": {
          "model_module": "@jupyter-widgets/controls",
          "model_name": "FloatProgressModel",
          "state": {
            "_view_name": "ProgressView",
            "style": "IPY_MODEL_2165b211610645df9c56fbd0462a8ec9",
            "_dom_classes": [],
            "description": "Extraction completed...: 100%",
            "_model_name": "FloatProgressModel",
            "bar_style": "success",
            "max": 1,
            "_view_module": "@jupyter-widgets/controls",
            "_model_module_version": "1.5.0",
            "value": 1,
            "_view_count": null,
            "_view_module_version": "1.5.0",
            "orientation": "horizontal",
            "min": 0,
            "description_tooltip": null,
            "_model_module": "@jupyter-widgets/controls",
            "layout": "IPY_MODEL_c059c2d6bc934640915d40237e0378ad"
          }
        },
        "cfeed9cbd39d4480858fea999447615b": {
          "model_module": "@jupyter-widgets/controls",
          "model_name": "HTMLModel",
          "state": {
            "_view_name": "HTMLView",
            "style": "IPY_MODEL_854d086f3504472ab838559a46423889",
            "_dom_classes": [],
            "description": "",
            "_model_name": "HTMLModel",
            "placeholder": "​",
            "_view_module": "@jupyter-widgets/controls",
            "_model_module_version": "1.5.0",
            "value": " 1/1 [00:03&lt;00:00,  3.59s/ file]",
            "_view_count": null,
            "_view_module_version": "1.5.0",
            "description_tooltip": null,
            "_model_module": "@jupyter-widgets/controls",
            "layout": "IPY_MODEL_07e5bbe7bd7a4033bcc1fb27949a1e18"
          }
        },
        "2165b211610645df9c56fbd0462a8ec9": {
          "model_module": "@jupyter-widgets/controls",
          "model_name": "ProgressStyleModel",
          "state": {
            "_view_name": "StyleView",
            "_model_name": "ProgressStyleModel",
            "description_width": "initial",
            "_view_module": "@jupyter-widgets/base",
            "_model_module_version": "1.5.0",
            "_view_count": null,
            "_view_module_version": "1.2.0",
            "bar_color": null,
            "_model_module": "@jupyter-widgets/controls"
          }
        },
        "c059c2d6bc934640915d40237e0378ad": {
          "model_module": "@jupyter-widgets/base",
          "model_name": "LayoutModel",
          "state": {
            "_view_name": "LayoutView",
            "grid_template_rows": null,
            "right": null,
            "justify_content": null,
            "_view_module": "@jupyter-widgets/base",
            "overflow": null,
            "_model_module_version": "1.2.0",
            "_view_count": null,
            "flex_flow": null,
            "width": null,
            "min_width": null,
            "border": null,
            "align_items": null,
            "bottom": null,
            "_model_module": "@jupyter-widgets/base",
            "top": null,
            "grid_column": null,
            "overflow_y": null,
            "overflow_x": null,
            "grid_auto_flow": null,
            "grid_area": null,
            "grid_template_columns": null,
            "flex": null,
            "_model_name": "LayoutModel",
            "justify_items": null,
            "grid_row": null,
            "max_height": null,
            "align_content": null,
            "visibility": null,
            "align_self": null,
            "height": null,
            "min_height": null,
            "padding": null,
            "grid_auto_rows": null,
            "grid_gap": null,
            "max_width": null,
            "order": null,
            "_view_module_version": "1.2.0",
            "grid_template_areas": null,
            "object_position": null,
            "object_fit": null,
            "grid_auto_columns": null,
            "margin": null,
            "display": null,
            "left": null
          }
        },
        "854d086f3504472ab838559a46423889": {
          "model_module": "@jupyter-widgets/controls",
          "model_name": "DescriptionStyleModel",
          "state": {
            "_view_name": "StyleView",
            "_model_name": "DescriptionStyleModel",
            "description_width": "",
            "_view_module": "@jupyter-widgets/base",
            "_model_module_version": "1.5.0",
            "_view_count": null,
            "_view_module_version": "1.2.0",
            "_model_module": "@jupyter-widgets/controls"
          }
        },
        "07e5bbe7bd7a4033bcc1fb27949a1e18": {
          "model_module": "@jupyter-widgets/base",
          "model_name": "LayoutModel",
          "state": {
            "_view_name": "LayoutView",
            "grid_template_rows": null,
            "right": null,
            "justify_content": null,
            "_view_module": "@jupyter-widgets/base",
            "overflow": null,
            "_model_module_version": "1.2.0",
            "_view_count": null,
            "flex_flow": null,
            "width": null,
            "min_width": null,
            "border": null,
            "align_items": null,
            "bottom": null,
            "_model_module": "@jupyter-widgets/base",
            "top": null,
            "grid_column": null,
            "overflow_y": null,
            "overflow_x": null,
            "grid_auto_flow": null,
            "grid_area": null,
            "grid_template_columns": null,
            "flex": null,
            "_model_name": "LayoutModel",
            "justify_items": null,
            "grid_row": null,
            "max_height": null,
            "align_content": null,
            "visibility": null,
            "align_self": null,
            "height": null,
            "min_height": null,
            "padding": null,
            "grid_auto_rows": null,
            "grid_gap": null,
            "max_width": null,
            "order": null,
            "_view_module_version": "1.2.0",
            "grid_template_areas": null,
            "object_position": null,
            "object_fit": null,
            "grid_auto_columns": null,
            "margin": null,
            "display": null,
            "left": null
          }
        },
        "c4dae90751d54afbbcbf45900da4fca5": {
          "model_module": "@jupyter-widgets/controls",
          "model_name": "HBoxModel",
          "state": {
            "_view_name": "HBoxView",
            "_dom_classes": [],
            "_model_name": "HBoxModel",
            "_view_module": "@jupyter-widgets/controls",
            "_model_module_version": "1.5.0",
            "_view_count": null,
            "_view_module_version": "1.5.0",
            "box_style": "",
            "layout": "IPY_MODEL_bd63d15ebed14210b655c097f739f304",
            "_model_module": "@jupyter-widgets/controls",
            "children": [
              "IPY_MODEL_69e33dea8d294cf3b66d3fbffa05397a",
              "IPY_MODEL_5c85ef7232964d35b5bd53ba2643aa46"
            ]
          }
        },
        "bd63d15ebed14210b655c097f739f304": {
          "model_module": "@jupyter-widgets/base",
          "model_name": "LayoutModel",
          "state": {
            "_view_name": "LayoutView",
            "grid_template_rows": null,
            "right": null,
            "justify_content": null,
            "_view_module": "@jupyter-widgets/base",
            "overflow": null,
            "_model_module_version": "1.2.0",
            "_view_count": null,
            "flex_flow": null,
            "width": null,
            "min_width": null,
            "border": null,
            "align_items": null,
            "bottom": null,
            "_model_module": "@jupyter-widgets/base",
            "top": null,
            "grid_column": null,
            "overflow_y": null,
            "overflow_x": null,
            "grid_auto_flow": null,
            "grid_area": null,
            "grid_template_columns": null,
            "flex": null,
            "_model_name": "LayoutModel",
            "justify_items": null,
            "grid_row": null,
            "max_height": null,
            "align_content": null,
            "visibility": null,
            "align_self": null,
            "height": null,
            "min_height": null,
            "padding": null,
            "grid_auto_rows": null,
            "grid_gap": null,
            "max_width": null,
            "order": null,
            "_view_module_version": "1.2.0",
            "grid_template_areas": null,
            "object_position": null,
            "object_fit": null,
            "grid_auto_columns": null,
            "margin": null,
            "display": null,
            "left": null
          }
        },
        "69e33dea8d294cf3b66d3fbffa05397a": {
          "model_module": "@jupyter-widgets/controls",
          "model_name": "FloatProgressModel",
          "state": {
            "_view_name": "ProgressView",
            "style": "IPY_MODEL_667621e537824601b41f334c31f46df8",
            "_dom_classes": [],
            "description": "",
            "_model_name": "FloatProgressModel",
            "bar_style": "info",
            "max": 1,
            "_view_module": "@jupyter-widgets/controls",
            "_model_module_version": "1.5.0",
            "value": 1,
            "_view_count": null,
            "_view_module_version": "1.5.0",
            "orientation": "horizontal",
            "min": 0,
            "description_tooltip": null,
            "_model_module": "@jupyter-widgets/controls",
            "layout": "IPY_MODEL_f817f837d5ac4bb5b48b107c2ecfe426"
          }
        },
        "5c85ef7232964d35b5bd53ba2643aa46": {
          "model_module": "@jupyter-widgets/controls",
          "model_name": "HTMLModel",
          "state": {
            "_view_name": "HTMLView",
            "style": "IPY_MODEL_755fb986f70544218e7e8c47ba70278f",
            "_dom_classes": [],
            "description": "",
            "_model_name": "HTMLModel",
            "placeholder": "​",
            "_view_module": "@jupyter-widgets/controls",
            "_model_module_version": "1.5.0",
            "value": " 1108752/0 [02:54&lt;00:00, 6018.81 examples/s]",
            "_view_count": null,
            "_view_module_version": "1.5.0",
            "description_tooltip": null,
            "_model_module": "@jupyter-widgets/controls",
            "layout": "IPY_MODEL_15674a87068847a2b538d39791e61faa"
          }
        },
        "667621e537824601b41f334c31f46df8": {
          "model_module": "@jupyter-widgets/controls",
          "model_name": "ProgressStyleModel",
          "state": {
            "_view_name": "StyleView",
            "_model_name": "ProgressStyleModel",
            "description_width": "initial",
            "_view_module": "@jupyter-widgets/base",
            "_model_module_version": "1.5.0",
            "_view_count": null,
            "_view_module_version": "1.2.0",
            "bar_color": null,
            "_model_module": "@jupyter-widgets/controls"
          }
        },
        "f817f837d5ac4bb5b48b107c2ecfe426": {
          "model_module": "@jupyter-widgets/base",
          "model_name": "LayoutModel",
          "state": {
            "_view_name": "LayoutView",
            "grid_template_rows": null,
            "right": null,
            "justify_content": null,
            "_view_module": "@jupyter-widgets/base",
            "overflow": null,
            "_model_module_version": "1.2.0",
            "_view_count": null,
            "flex_flow": null,
            "width": null,
            "min_width": null,
            "border": null,
            "align_items": null,
            "bottom": null,
            "_model_module": "@jupyter-widgets/base",
            "top": null,
            "grid_column": null,
            "overflow_y": null,
            "overflow_x": null,
            "grid_auto_flow": null,
            "grid_area": null,
            "grid_template_columns": null,
            "flex": null,
            "_model_name": "LayoutModel",
            "justify_items": null,
            "grid_row": null,
            "max_height": null,
            "align_content": null,
            "visibility": null,
            "align_self": null,
            "height": null,
            "min_height": null,
            "padding": null,
            "grid_auto_rows": null,
            "grid_gap": null,
            "max_width": null,
            "order": null,
            "_view_module_version": "1.2.0",
            "grid_template_areas": null,
            "object_position": null,
            "object_fit": null,
            "grid_auto_columns": null,
            "margin": null,
            "display": null,
            "left": null
          }
        },
        "755fb986f70544218e7e8c47ba70278f": {
          "model_module": "@jupyter-widgets/controls",
          "model_name": "DescriptionStyleModel",
          "state": {
            "_view_name": "StyleView",
            "_model_name": "DescriptionStyleModel",
            "description_width": "",
            "_view_module": "@jupyter-widgets/base",
            "_model_module_version": "1.5.0",
            "_view_count": null,
            "_view_module_version": "1.2.0",
            "_model_module": "@jupyter-widgets/controls"
          }
        },
        "15674a87068847a2b538d39791e61faa": {
          "model_module": "@jupyter-widgets/base",
          "model_name": "LayoutModel",
          "state": {
            "_view_name": "LayoutView",
            "grid_template_rows": null,
            "right": null,
            "justify_content": null,
            "_view_module": "@jupyter-widgets/base",
            "overflow": null,
            "_model_module_version": "1.2.0",
            "_view_count": null,
            "flex_flow": null,
            "width": null,
            "min_width": null,
            "border": null,
            "align_items": null,
            "bottom": null,
            "_model_module": "@jupyter-widgets/base",
            "top": null,
            "grid_column": null,
            "overflow_y": null,
            "overflow_x": null,
            "grid_auto_flow": null,
            "grid_area": null,
            "grid_template_columns": null,
            "flex": null,
            "_model_name": "LayoutModel",
            "justify_items": null,
            "grid_row": null,
            "max_height": null,
            "align_content": null,
            "visibility": null,
            "align_self": null,
            "height": null,
            "min_height": null,
            "padding": null,
            "grid_auto_rows": null,
            "grid_gap": null,
            "max_width": null,
            "order": null,
            "_view_module_version": "1.2.0",
            "grid_template_areas": null,
            "object_position": null,
            "object_fit": null,
            "grid_auto_columns": null,
            "margin": null,
            "display": null,
            "left": null
          }
        },
        "c561839a97844335a6dcfaea11716b63": {
          "model_module": "@jupyter-widgets/controls",
          "model_name": "HBoxModel",
          "state": {
            "_view_name": "HBoxView",
            "_dom_classes": [],
            "_model_name": "HBoxModel",
            "_view_module": "@jupyter-widgets/controls",
            "_model_module_version": "1.5.0",
            "_view_count": null,
            "_view_module_version": "1.5.0",
            "box_style": "",
            "layout": "IPY_MODEL_b6115f6c24154a058c25943806fb0dc1",
            "_model_module": "@jupyter-widgets/controls",
            "children": [
              "IPY_MODEL_d5625263d0804ba08676dec93d4f7cda",
              "IPY_MODEL_338e4bfebe1b4d1db22bacfbbe04d163"
            ]
          }
        },
        "b6115f6c24154a058c25943806fb0dc1": {
          "model_module": "@jupyter-widgets/base",
          "model_name": "LayoutModel",
          "state": {
            "_view_name": "LayoutView",
            "grid_template_rows": null,
            "right": null,
            "justify_content": null,
            "_view_module": "@jupyter-widgets/base",
            "overflow": null,
            "_model_module_version": "1.2.0",
            "_view_count": null,
            "flex_flow": null,
            "width": null,
            "min_width": null,
            "border": null,
            "align_items": null,
            "bottom": null,
            "_model_module": "@jupyter-widgets/base",
            "top": null,
            "grid_column": null,
            "overflow_y": null,
            "overflow_x": null,
            "grid_auto_flow": null,
            "grid_area": null,
            "grid_template_columns": null,
            "flex": null,
            "_model_name": "LayoutModel",
            "justify_items": null,
            "grid_row": null,
            "max_height": null,
            "align_content": null,
            "visibility": null,
            "align_self": null,
            "height": null,
            "min_height": null,
            "padding": null,
            "grid_auto_rows": null,
            "grid_gap": null,
            "max_width": null,
            "order": null,
            "_view_module_version": "1.2.0",
            "grid_template_areas": null,
            "object_position": null,
            "object_fit": null,
            "grid_auto_columns": null,
            "margin": null,
            "display": null,
            "left": null
          }
        },
        "d5625263d0804ba08676dec93d4f7cda": {
          "model_module": "@jupyter-widgets/controls",
          "model_name": "FloatProgressModel",
          "state": {
            "_view_name": "ProgressView",
            "style": "IPY_MODEL_0c51eb82beff43bbb416717bb5b93165",
            "_dom_classes": [],
            "description": " 99%",
            "_model_name": "FloatProgressModel",
            "bar_style": "danger",
            "max": 1108752,
            "_view_module": "@jupyter-widgets/controls",
            "_model_module_version": "1.5.0",
            "value": 1096304,
            "_view_count": null,
            "_view_module_version": "1.5.0",
            "orientation": "horizontal",
            "min": 0,
            "description_tooltip": null,
            "_model_module": "@jupyter-widgets/controls",
            "layout": "IPY_MODEL_f1b87fbe67ae4558931acc93aeefdbb8"
          }
        },
        "338e4bfebe1b4d1db22bacfbbe04d163": {
          "model_module": "@jupyter-widgets/controls",
          "model_name": "HTMLModel",
          "state": {
            "_view_name": "HTMLView",
            "style": "IPY_MODEL_b1ecc1076ec846878fbf7291ce67648f",
            "_dom_classes": [],
            "description": "",
            "_model_name": "HTMLModel",
            "placeholder": "​",
            "_view_module": "@jupyter-widgets/controls",
            "_model_module_version": "1.5.0",
            "value": " 1096304/1108752 [00:08&lt;00:06, 2014.95 examples/s]",
            "_view_count": null,
            "_view_module_version": "1.5.0",
            "description_tooltip": null,
            "_model_module": "@jupyter-widgets/controls",
            "layout": "IPY_MODEL_e3499010f14a4c50b7cfad9fc06fa7f2"
          }
        },
        "0c51eb82beff43bbb416717bb5b93165": {
          "model_module": "@jupyter-widgets/controls",
          "model_name": "ProgressStyleModel",
          "state": {
            "_view_name": "StyleView",
            "_model_name": "ProgressStyleModel",
            "description_width": "initial",
            "_view_module": "@jupyter-widgets/base",
            "_model_module_version": "1.5.0",
            "_view_count": null,
            "_view_module_version": "1.2.0",
            "bar_color": null,
            "_model_module": "@jupyter-widgets/controls"
          }
        },
        "f1b87fbe67ae4558931acc93aeefdbb8": {
          "model_module": "@jupyter-widgets/base",
          "model_name": "LayoutModel",
          "state": {
            "_view_name": "LayoutView",
            "grid_template_rows": null,
            "right": null,
            "justify_content": null,
            "_view_module": "@jupyter-widgets/base",
            "overflow": null,
            "_model_module_version": "1.2.0",
            "_view_count": null,
            "flex_flow": null,
            "width": null,
            "min_width": null,
            "border": null,
            "align_items": null,
            "bottom": null,
            "_model_module": "@jupyter-widgets/base",
            "top": null,
            "grid_column": null,
            "overflow_y": null,
            "overflow_x": null,
            "grid_auto_flow": null,
            "grid_area": null,
            "grid_template_columns": null,
            "flex": null,
            "_model_name": "LayoutModel",
            "justify_items": null,
            "grid_row": null,
            "max_height": null,
            "align_content": null,
            "visibility": null,
            "align_self": null,
            "height": null,
            "min_height": null,
            "padding": null,
            "grid_auto_rows": null,
            "grid_gap": null,
            "max_width": null,
            "order": null,
            "_view_module_version": "1.2.0",
            "grid_template_areas": null,
            "object_position": null,
            "object_fit": null,
            "grid_auto_columns": null,
            "margin": null,
            "display": null,
            "left": null
          }
        },
        "b1ecc1076ec846878fbf7291ce67648f": {
          "model_module": "@jupyter-widgets/controls",
          "model_name": "DescriptionStyleModel",
          "state": {
            "_view_name": "StyleView",
            "_model_name": "DescriptionStyleModel",
            "description_width": "",
            "_view_module": "@jupyter-widgets/base",
            "_model_module_version": "1.5.0",
            "_view_count": null,
            "_view_module_version": "1.2.0",
            "_model_module": "@jupyter-widgets/controls"
          }
        },
        "e3499010f14a4c50b7cfad9fc06fa7f2": {
          "model_module": "@jupyter-widgets/base",
          "model_name": "LayoutModel",
          "state": {
            "_view_name": "LayoutView",
            "grid_template_rows": null,
            "right": null,
            "justify_content": null,
            "_view_module": "@jupyter-widgets/base",
            "overflow": null,
            "_model_module_version": "1.2.0",
            "_view_count": null,
            "flex_flow": null,
            "width": null,
            "min_width": null,
            "border": null,
            "align_items": null,
            "bottom": null,
            "_model_module": "@jupyter-widgets/base",
            "top": null,
            "grid_column": null,
            "overflow_y": null,
            "overflow_x": null,
            "grid_auto_flow": null,
            "grid_area": null,
            "grid_template_columns": null,
            "flex": null,
            "_model_name": "LayoutModel",
            "justify_items": null,
            "grid_row": null,
            "max_height": null,
            "align_content": null,
            "visibility": null,
            "align_self": null,
            "height": null,
            "min_height": null,
            "padding": null,
            "grid_auto_rows": null,
            "grid_gap": null,
            "max_width": null,
            "order": null,
            "_view_module_version": "1.2.0",
            "grid_template_areas": null,
            "object_position": null,
            "object_fit": null,
            "grid_auto_columns": null,
            "margin": null,
            "display": null,
            "left": null
          }
        }
      }
    }
  },
  "cells": [
    {
      "cell_type": "markdown",
      "metadata": {
        "id": "view-in-github",
        "colab_type": "text"
      },
      "source": [
        "<a href=\"https://colab.research.google.com/github/kartik727/neural-machine-translation/blob/master/Seq2Seq_with_attention.ipynb\" target=\"_parent\"><img src=\"https://colab.research.google.com/assets/colab-badge.svg\" alt=\"Open In Colab\"/></a>"
      ]
    },
    {
      "cell_type": "markdown",
      "metadata": {
        "id": "h9w8BVLFXfjP"
      },
      "source": [
        "# Seq2Seq with attention\n",
        "\n",
        "## Dependencies\n",
        "Primary library used for modelling and training - trax\n",
        "\n",
        "## Data - Tensorflow Datasets (TFDS)\n",
        "1. OPUS (`'opus'`)"
      ]
    },
    {
      "cell_type": "code",
      "metadata": {
        "id": "nIxeipWjVbKF"
      },
      "source": [
        "import random\n",
        "import numpy as np\n",
        "import re\n",
        "from collections import defaultdict\n",
        "import os\n",
        "import time\n",
        "import matplotlib.pyplot as plt\n",
        "import matplotlib.ticker as ticker\n",
        "import shutil\n",
        "\n",
        "import nltk\n",
        "import tensorflow as tf\n",
        "import tensorflow_datasets as tfds"
      ],
      "execution_count": 41,
      "outputs": []
    },
    {
      "cell_type": "code",
      "metadata": {
        "id": "vYIN8QK51Fr4",
        "outputId": "d13aad74-6a15-447d-bc7f-39510c33e6af",
        "colab": {
          "base_uri": "https://localhost:8080/"
        }
      },
      "source": [
        "# Utils\n",
        "\n",
        "!git clone https://gist.github.com/c47d0ad11b63acd334e760fc4ed21488.git namespace\n",
        "!git clone https://gist.github.com/553d2d565a17788d6217eba65e770c41.git tb_logger"
      ],
      "execution_count": 2,
      "outputs": [
        {
          "output_type": "stream",
          "text": [
            "Cloning into 'namespace'...\n",
            "remote: Enumerating objects: 3, done.\u001b[K\n",
            "remote: Counting objects: 100% (3/3), done.\u001b[K\n",
            "remote: Compressing objects: 100% (2/2), done.\u001b[K\n",
            "remote: Total 3 (delta 0), reused 0 (delta 0), pack-reused 0\u001b[K\n",
            "Unpacking objects: 100% (3/3), done.\n",
            "Cloning into 'tb_logger'...\n",
            "remote: Enumerating objects: 3, done.\u001b[K\n",
            "remote: Total 3 (delta 0), reused 0 (delta 0), pack-reused 3\u001b[K\n",
            "Unpacking objects: 100% (3/3), done.\n"
          ],
          "name": "stdout"
        }
      ]
    },
    {
      "cell_type": "code",
      "metadata": {
        "id": "KqG3uKccP1t7"
      },
      "source": [
        "from namespace.namespace import Namespace\n",
        "from tb_logger.tensorboard_logger_2 import Logger as TB_Logger"
      ],
      "execution_count": 3,
      "outputs": []
    },
    {
      "cell_type": "code",
      "metadata": {
        "id": "oe2lkV32ruUS"
      },
      "source": [
        "config_dict = {\n",
        "    'model' : {\n",
        "        'embedding_size' : 256,\n",
        "        'n_encoder_layers' : 1,\n",
        "        'n_decoder_layers' : 1,\n",
        "        'n_attention_heads' : 1,\n",
        "        'attention_dropout' : 0.,\n",
        "        'n_units' : 1024,\n",
        "        'batch_size' : 32,\n",
        "    },\n",
        "    'languages' : {\n",
        "        'input' : {\n",
        "            'name' : 'en',\n",
        "            'sentence_maxlen' : 30,\n",
        "            'vocab_size' : 20_000,\n",
        "        },\n",
        "        'target' : {\n",
        "            'name' : 'de',\n",
        "            'sentence_maxlen' : 30,\n",
        "            'vocab_size' : 20_000,\n",
        "        }\n",
        "    },\n",
        "    'data' : {\n",
        "        'dataset_name' : 'opus',\n",
        "        'load_pcnt' : 5,\n",
        "        'shuffle' : True\n",
        "    },\n",
        "    'preprocessing' : {\n",
        "        'start_token' : '<start>',\n",
        "        'end_token' : '<end>',\n",
        "        'oov_token' : '<unk>',\n",
        "        'padding' : 'post'\n",
        "    },\n",
        "    'training' : {\n",
        "        'epochs' : 10\n",
        "    },\n",
        "    'logging' : {\n",
        "        'dir' : '/content/out/tensorboard/logs/'\n",
        "        'name' : 'seq2seq machine translation'\n",
        "        'description' : 'NMT using seq2seq model with attention'\n",
        "    }\n",
        "}\n",
        "\n",
        "config = Namespace(**config_dict)"
      ],
      "execution_count": 4,
      "outputs": []
    },
    {
      "cell_type": "code",
      "metadata": {
        "id": "TFkyOppErvHW",
        "colab": {
          "base_uri": "https://localhost:8080/"
        },
        "outputId": "281a04ec-7add-46de-ead3-5c230fd4ad7b"
      },
      "source": [
        "device_name = tf.test.gpu_device_name()\n",
        "if device_name != '/device:GPU:0':\n",
        "    print('GPU device not found')\n",
        "else:\n",
        "    print('Found GPU at: {}'.format(device_name))"
      ],
      "execution_count": 5,
      "outputs": [
        {
          "output_type": "stream",
          "text": [
            "Found GPU at: /device:GPU:0\n"
          ],
          "name": "stdout"
        }
      ]
    },
    {
      "cell_type": "code",
      "metadata": {
        "id": "5kmVeEd_NRgw",
        "colab": {
          "base_uri": "https://localhost:8080/"
        },
        "outputId": "63051064-6672-4a5f-874c-20a9d746ec20"
      },
      "source": [
        "try:\n",
        "  tpu = tf.distribute.cluster_resolver.TPUClusterResolver()  # TPU detection\n",
        "  print('Running on TPU ', tpu.cluster_spec().as_dict()['worker'])\n",
        "except ValueError:\n",
        "  print('Not connected to a TPU runtime')"
      ],
      "execution_count": 6,
      "outputs": [
        {
          "output_type": "stream",
          "text": [
            "Not connected to a TPU runtime\n"
          ],
          "name": "stdout"
        }
      ]
    },
    {
      "cell_type": "code",
      "metadata": {
        "id": "5iypoagmSh3e"
      },
      "source": [
        "logger = TB_Logger(config.logging.dir)"
      ],
      "execution_count": 7,
      "outputs": []
    },
    {
      "cell_type": "code",
      "metadata": {
        "id": "WWGQout8gG-H",
        "outputId": "e27c1292-46ae-432e-ae71-6ddc288f1a55",
        "colab": {
          "base_uri": "https://localhost:8080/",
          "height": 318,
          "referenced_widgets": [
            "af2ecd8665d54e50b971a9be892f8a44",
            "d253eb78409146d79de30743ff553197",
            "d7221b17b77846968eab4683664f9eef",
            "0787cc1723294c90b35febcbb430f052",
            "3fb0e0e003f2451b9178ddcd62237f73",
            "cb30387a6c3c4c3ca5984dffa4cefa4e",
            "0ee19326b7f448bdabbcbe85789c2e8a",
            "3c8e396f6e5b4feba0abda1a4f963021",
            "7b59e29b57fd49fe87098e3a0318ffb6",
            "3e327a97b34840089bcf1de72e67c752",
            "495c0bac714748ad9a7bcaeed22389e3",
            "30327e2c210941ffa94b173c3f9fbc6a",
            "828726028c584bcba50d3dd5efd2d221",
            "b94d8cfcb06549419f5aead7eed766e8",
            "aa441eb2496444a69b8e8f7f82cc7330",
            "a33ccc5b00364d55a0f15df27955ec42",
            "18461934f88249bfbc5eaff523ea36f6",
            "6435c47e398c4ff99d36687f20cd731f",
            "6f7c22d0b6444ed8aff3b11dfc4f32f5",
            "cfeed9cbd39d4480858fea999447615b",
            "2165b211610645df9c56fbd0462a8ec9",
            "c059c2d6bc934640915d40237e0378ad",
            "854d086f3504472ab838559a46423889",
            "07e5bbe7bd7a4033bcc1fb27949a1e18",
            "c4dae90751d54afbbcbf45900da4fca5",
            "bd63d15ebed14210b655c097f739f304",
            "69e33dea8d294cf3b66d3fbffa05397a",
            "5c85ef7232964d35b5bd53ba2643aa46",
            "667621e537824601b41f334c31f46df8",
            "f817f837d5ac4bb5b48b107c2ecfe426",
            "755fb986f70544218e7e8c47ba70278f",
            "15674a87068847a2b538d39791e61faa",
            "c561839a97844335a6dcfaea11716b63",
            "b6115f6c24154a058c25943806fb0dc1",
            "d5625263d0804ba08676dec93d4f7cda",
            "338e4bfebe1b4d1db22bacfbbe04d163",
            "0c51eb82beff43bbb416717bb5b93165",
            "f1b87fbe67ae4558931acc93aeefdbb8",
            "b1ecc1076ec846878fbf7291ce67648f",
            "e3499010f14a4c50b7cfad9fc06fa7f2"
          ]
        }
      },
      "source": [
        "dataset_train = tfds.load(config.data.dataset_name, split=f'train[:{config.data.load_pcnt}%]', batch_size=-1, shuffle_files=config.data.shuffle)\n",
        "ds_np = tfds.as_numpy(dataset_train)"
      ],
      "execution_count": 8,
      "outputs": [
        {
          "output_type": "stream",
          "text": [
            "\u001b[1mDownloading and preparing dataset opus/medical/0.1.0 (download: 34.29 MiB, generated: 188.85 MiB, total: 223.13 MiB) to /root/tensorflow_datasets/opus/medical/0.1.0...\u001b[0m\n"
          ],
          "name": "stdout"
        },
        {
          "output_type": "display_data",
          "data": {
            "application/vnd.jupyter.widget-view+json": {
              "model_id": "af2ecd8665d54e50b971a9be892f8a44",
              "version_minor": 0,
              "version_major": 2
            },
            "text/plain": [
              "HBox(children=(FloatProgress(value=1.0, bar_style='info', description='Dl Completed...', max=1.0, style=Progre…"
            ]
          },
          "metadata": {
            "tags": []
          }
        },
        {
          "output_type": "display_data",
          "data": {
            "application/vnd.jupyter.widget-view+json": {
              "model_id": "7b59e29b57fd49fe87098e3a0318ffb6",
              "version_minor": 0,
              "version_major": 2
            },
            "text/plain": [
              "HBox(children=(FloatProgress(value=1.0, bar_style='info', description='Dl Size...', max=1.0, style=ProgressSty…"
            ]
          },
          "metadata": {
            "tags": []
          }
        },
        {
          "output_type": "display_data",
          "data": {
            "application/vnd.jupyter.widget-view+json": {
              "model_id": "18461934f88249bfbc5eaff523ea36f6",
              "version_minor": 0,
              "version_major": 2
            },
            "text/plain": [
              "HBox(children=(FloatProgress(value=1.0, bar_style='info', description='Extraction completed...', max=1.0, styl…"
            ]
          },
          "metadata": {
            "tags": []
          }
        },
        {
          "output_type": "stream",
          "text": [
            "\n",
            "\n",
            "\n",
            "\n",
            "\n",
            "\n"
          ],
          "name": "stdout"
        },
        {
          "output_type": "display_data",
          "data": {
            "application/vnd.jupyter.widget-view+json": {
              "model_id": "c4dae90751d54afbbcbf45900da4fca5",
              "version_minor": 0,
              "version_major": 2
            },
            "text/plain": [
              "HBox(children=(FloatProgress(value=1.0, bar_style='info', max=1.0), HTML(value='')))"
            ]
          },
          "metadata": {
            "tags": []
          }
        },
        {
          "output_type": "stream",
          "text": [
            "\rShuffling and writing examples to /root/tensorflow_datasets/opus/medical/0.1.0.incompleteJBFWR7/opus-train.tfrecord\n"
          ],
          "name": "stdout"
        },
        {
          "output_type": "display_data",
          "data": {
            "application/vnd.jupyter.widget-view+json": {
              "model_id": "c561839a97844335a6dcfaea11716b63",
              "version_minor": 0,
              "version_major": 2
            },
            "text/plain": [
              "HBox(children=(FloatProgress(value=0.0, max=1108752.0), HTML(value='')))"
            ]
          },
          "metadata": {
            "tags": []
          }
        },
        {
          "output_type": "stream",
          "text": [
            "\u001b[1mDataset opus downloaded and prepared to /root/tensorflow_datasets/opus/medical/0.1.0. Subsequent calls will reuse this data.\u001b[0m\n"
          ],
          "name": "stdout"
        }
      ]
    },
    {
      "cell_type": "code",
      "metadata": {
        "id": "_0zG3MIS_1LB"
      },
      "source": [
        ""
      ],
      "execution_count": 8,
      "outputs": []
    },
    {
      "cell_type": "code",
      "metadata": {
        "id": "f-dx2pyK-_LL"
      },
      "source": [
        "def preprocess_sentence(w, max_len):\n",
        "    w = w.decode().lower().strip()\n",
        "\n",
        "    # creating a space between a word and the punctuation following it\n",
        "    # eg: \"he is a boy.\" => \"he is a boy .\"\n",
        "    # Reference:- https://stackoverflow.com/questions/3645931/python-padding-punctuation-with-white-spaces-keeping-punctuation\n",
        "    w = re.sub(r\"([?.!,¿])\", r\" \\1 \", w)\n",
        "    w = re.sub(r'[\" \"]+', \" \", w)\n",
        "\n",
        "    # replacing everything with space except (a-z, A-Z, \".\", \"?\", \"!\", \",\")\n",
        "    w = re.sub(r\"[^a-zA-Z?.!,¿]+\", \" \", w)\n",
        "\n",
        "    w = w.strip()\n",
        "\n",
        "    w = ' '.join(w.split()[:max_len])\n",
        "\n",
        "    # adding a start and an end token to the sentence\n",
        "    # so that the model know when to start and stop predicting.\n",
        "    w = f'{config.preprocessing.start_token} {w} {config.preprocessing.end_token}'\n",
        "    return w"
      ],
      "execution_count": 9,
      "outputs": []
    },
    {
      "cell_type": "code",
      "metadata": {
        "id": "fKqlJpudIBTD"
      },
      "source": [
        "def preprocess_data(data, max_len):\n",
        "    res = []\n",
        "    for sentence in data:\n",
        "        res.append(preprocess_sentence(sentence, max_len))\n",
        "    return np.array(res)"
      ],
      "execution_count": 10,
      "outputs": []
    },
    {
      "cell_type": "code",
      "metadata": {
        "id": "3p0J-B6dGj9c",
        "outputId": "af84700f-f656-45bf-fa69-e3b0c9654641",
        "colab": {
          "base_uri": "https://localhost:8080/"
        }
      },
      "source": [
        "lang_tokenizer = {}\n",
        "preprocessed_dataset = {}\n",
        "\n",
        "for lang in config.languages:\n",
        "    tokenizer = tf.keras.preprocessing.text.Tokenizer(\n",
        "        num_words=lang.vocab_size,\n",
        "        filters='',\n",
        "        oov_token=config.preprocessing.oov_token\n",
        "        )\n",
        "    preprocessed_data = preprocess_data(ds_np[lang.name], lang.sentence_maxlen)\n",
        "    tokenizer.fit_on_texts(preprocessed_data)\n",
        "    lang_tokenizer[lang.name] = tokenizer\n",
        "\n",
        "    tensor = tokenizer.texts_to_sequences(preprocessed_data)\n",
        "    tensor = tf.keras.preprocessing.sequence.pad_sequences(tensor, padding=config.preprocessing.padding)\n",
        "    preprocessed_dataset[lang.name] = tensor"
      ],
      "execution_count": 11,
      "outputs": [
        {
          "output_type": "stream",
          "text": [
            "\r"
          ],
          "name": "stdout"
        }
      ]
    },
    {
      "cell_type": "code",
      "metadata": {
        "id": "EyJI-cECVJMC"
      },
      "source": [
        "dataset = tf.data.Dataset.from_tensor_slices((\n",
        "    preprocessed_dataset[config.languages.input.name],\n",
        "    preprocessed_dataset[config.languages.target.name]\n",
        "    ))\n",
        "dataset = dataset.batch(config.model.batch_size, drop_remainder=True)"
      ],
      "execution_count": 12,
      "outputs": []
    },
    {
      "cell_type": "code",
      "metadata": {
        "id": "5SZn3zpaV3pU"
      },
      "source": [
        "steps_per_epoch = len(dataset)\n",
        "\n",
        "vocab_input_size = len(lang_tokenizer[config.languages.input.name].word_index)+1\n",
        "vocab_target_size = len(lang_tokenizer[config.languages.target.name].word_index)+1"
      ],
      "execution_count": 13,
      "outputs": []
    },
    {
      "cell_type": "code",
      "metadata": {
        "id": "jAat1xQtWSan",
        "colab": {
          "base_uri": "https://localhost:8080/"
        },
        "outputId": "6c834fbd-be3d-43b6-e120-aa204721d07f"
      },
      "source": [
        "example_input_batch, example_target_batch = next(iter(dataset))\n",
        "example_input_batch.shape, example_target_batch.shape"
      ],
      "execution_count": 14,
      "outputs": [
        {
          "output_type": "execute_result",
          "data": {
            "text/plain": [
              "(TensorShape([32, 32]), TensorShape([32, 32]))"
            ]
          },
          "metadata": {
            "tags": []
          },
          "execution_count": 14
        }
      ]
    },
    {
      "cell_type": "code",
      "metadata": {
        "id": "k6HeF0Mv8CRS"
      },
      "source": [
        "max_len_inp = preprocessed_dataset[config.languages.input.name].shape[1]\n",
        "max_len_targ = preprocessed_dataset[config.languages.target.name].shape[1]"
      ],
      "execution_count": 15,
      "outputs": []
    },
    {
      "cell_type": "markdown",
      "metadata": {
        "id": "UJqs8KhXc76K"
      },
      "source": [
        "## Keras\n",
        "\n",
        "Source: [Tensorflow NMT tutorial](https://www.tensorflow.org/tutorials/text/nmt_with_attention)"
      ]
    },
    {
      "cell_type": "code",
      "metadata": {
        "id": "PUt7-mIZc3Vz"
      },
      "source": [
        "class Encoder(tf.keras.Model):\n",
        "  def __init__(self, vocab_size, embedding_dim, enc_units, batch_sz):\n",
        "    super(Encoder, self).__init__()\n",
        "    self.batch_sz = batch_sz\n",
        "    self.enc_units = enc_units\n",
        "    self.embedding = tf.keras.layers.Embedding(vocab_size, embedding_dim)\n",
        "    self.gru = tf.keras.layers.GRU(self.enc_units,\n",
        "                                   return_sequences=True,\n",
        "                                   return_state=True,\n",
        "                                   recurrent_initializer='glorot_uniform')\n",
        "\n",
        "  def call(self, x, hidden):\n",
        "    x = self.embedding(x)\n",
        "    output, state = self.gru(x, initial_state=hidden)\n",
        "    return output, state\n",
        "\n",
        "  def initialize_hidden_state(self):\n",
        "    return tf.zeros((self.batch_sz, self.enc_units))"
      ],
      "execution_count": 16,
      "outputs": []
    },
    {
      "cell_type": "code",
      "metadata": {
        "id": "DSmKsAw13NGd",
        "colab": {
          "base_uri": "https://localhost:8080/"
        },
        "outputId": "f3811338-33ff-40ad-c9dc-77a644572d6a"
      },
      "source": [
        "encoder = Encoder(vocab_input_size, config.model.embedding_size, config.model.n_units, config.model.batch_size)\n",
        "\n",
        "# sample input\n",
        "sample_hidden = encoder.initialize_hidden_state()\n",
        "sample_output, sample_hidden = encoder(example_input_batch, sample_hidden)\n",
        "print('Encoder output shape: (batch size, sequence length, units)', sample_output.shape)\n",
        "print('Encoder Hidden state shape: (batch size, units)', sample_hidden.shape)"
      ],
      "execution_count": 17,
      "outputs": [
        {
          "output_type": "stream",
          "text": [
            "Encoder output shape: (batch size, sequence length, units) (32, 32, 1024)\n",
            "Encoder Hidden state shape: (batch size, units) (32, 1024)\n"
          ],
          "name": "stdout"
        }
      ]
    },
    {
      "cell_type": "code",
      "metadata": {
        "id": "3HadZkjkjVuj"
      },
      "source": [
        "class BahdanauAttention(tf.keras.layers.Layer):\n",
        "  def __init__(self, units):\n",
        "    super(BahdanauAttention, self).__init__()\n",
        "    self.W1 = tf.keras.layers.Dense(units)\n",
        "    self.W2 = tf.keras.layers.Dense(units)\n",
        "    self.V = tf.keras.layers.Dense(1)\n",
        "\n",
        "  def call(self, query, values):\n",
        "    # query hidden state shape == (batch_size, hidden size)\n",
        "    # query_with_time_axis shape == (batch_size, 1, hidden size)\n",
        "    # values shape == (batch_size, max_len, hidden size)\n",
        "    # we are doing this to broadcast addition along the time axis to calculate the score\n",
        "    query_with_time_axis = tf.expand_dims(query, 1)\n",
        "\n",
        "    # score shape == (batch_size, max_length, 1)\n",
        "    # we get 1 at the last axis because we are applying score to self.V\n",
        "    # the shape of the tensor before applying self.V is (batch_size, max_length, units)\n",
        "    score = self.V(tf.nn.tanh(\n",
        "        self.W1(query_with_time_axis) + self.W2(values)))\n",
        "\n",
        "    # attention_weights shape == (batch_size, max_length, 1)\n",
        "    attention_weights = tf.nn.softmax(score, axis=1)\n",
        "\n",
        "    # context_vector shape after sum == (batch_size, hidden_size)\n",
        "    context_vector = attention_weights * values\n",
        "    context_vector = tf.reduce_sum(context_vector, axis=1)\n",
        "\n",
        "    return context_vector, attention_weights"
      ],
      "execution_count": 18,
      "outputs": []
    },
    {
      "cell_type": "code",
      "metadata": {
        "id": "c-kb7fComx3C",
        "colab": {
          "base_uri": "https://localhost:8080/"
        },
        "outputId": "5b4fd206-6bcc-4f5c-ae75-21865d01b3c4"
      },
      "source": [
        "attention_layer = BahdanauAttention(10)\n",
        "attention_result, attention_weights = attention_layer(sample_hidden, sample_output)\n",
        "\n",
        "print(\"Attention result shape: (batch size, units)\", attention_result.shape)\n",
        "print(\"Attention weights shape: (batch_size, sequence_length, 1)\", attention_weights.shape)"
      ],
      "execution_count": 19,
      "outputs": [
        {
          "output_type": "stream",
          "text": [
            "Attention result shape: (batch size, units) (32, 1024)\n",
            "Attention weights shape: (batch_size, sequence_length, 1) (32, 32, 1)\n"
          ],
          "name": "stdout"
        }
      ]
    },
    {
      "cell_type": "code",
      "metadata": {
        "id": "CVmRySLCmx0_"
      },
      "source": [
        "class Decoder(tf.keras.Model):\n",
        "  def __init__(self, vocab_size, embedding_dim, dec_units, batch_sz):\n",
        "    super(Decoder, self).__init__()\n",
        "    self.batch_sz = batch_sz\n",
        "    self.dec_units = dec_units\n",
        "    self.embedding = tf.keras.layers.Embedding(vocab_size, embedding_dim)\n",
        "    self.gru = tf.keras.layers.GRU(self.dec_units,\n",
        "                                   return_sequences=True,\n",
        "                                   return_state=True,\n",
        "                                   recurrent_initializer='glorot_uniform')\n",
        "    self.fc = tf.keras.layers.Dense(vocab_size)\n",
        "\n",
        "    # used for attention\n",
        "    self.attention = BahdanauAttention(self.dec_units)\n",
        "\n",
        "  def call(self, x, hidden, enc_output):\n",
        "    # enc_output shape == (batch_size, max_length, hidden_size)\n",
        "    context_vector, attention_weights = self.attention(hidden, enc_output)\n",
        "\n",
        "    # x shape after passing through embedding == (batch_size, 1, embedding_dim)\n",
        "    x = self.embedding(x)\n",
        "\n",
        "    # x shape after concatenation == (batch_size, 1, embedding_dim + hidden_size)\n",
        "    x = tf.concat([tf.expand_dims(context_vector, 1), x], axis=-1)\n",
        "\n",
        "    # passing the concatenated vector to the GRU\n",
        "    output, state = self.gru(x)\n",
        "\n",
        "    # output shape == (batch_size * 1, hidden_size)\n",
        "    output = tf.reshape(output, (-1, output.shape[2]))\n",
        "\n",
        "    # output shape == (batch_size, vocab)\n",
        "    x = self.fc(output)\n",
        "\n",
        "    return x, state, attention_weights"
      ],
      "execution_count": 20,
      "outputs": []
    },
    {
      "cell_type": "code",
      "metadata": {
        "id": "-gPNCU07mxy9",
        "colab": {
          "base_uri": "https://localhost:8080/"
        },
        "outputId": "65a9c01c-a6eb-446f-8138-1109cb100aa5"
      },
      "source": [
        "decoder = Decoder(vocab_target_size, config.model.embedding_size, config.model.n_units, config.model.batch_size)\n",
        "\n",
        "sample_decoder_output, _, _ = decoder(tf.random.uniform((config.model.batch_size, 1)),\n",
        "                                      sample_hidden, sample_output)\n",
        "\n",
        "print('Decoder output shape: (batch_size, vocab size)', sample_decoder_output.shape)"
      ],
      "execution_count": 21,
      "outputs": [
        {
          "output_type": "stream",
          "text": [
            "Decoder output shape: (batch_size, vocab size) (32, 25371)\n"
          ],
          "name": "stdout"
        }
      ]
    },
    {
      "cell_type": "code",
      "metadata": {
        "id": "8iJp1zO3mxxc"
      },
      "source": [
        "optimizer = tf.keras.optimizers.Adam()\n",
        "loss_object = tf.keras.losses.SparseCategoricalCrossentropy(from_logits=True,\n",
        "                                                            reduction='none')\n",
        "\n",
        "\n",
        "def loss_function(real, pred):\n",
        "    mask = tf.math.logical_not(tf.math.equal(real, 0))\n",
        "    loss_ = loss_object(real, pred)\n",
        "\n",
        "    mask = tf.cast(mask, dtype=loss_.dtype)\n",
        "    loss_ *= mask\n",
        "\n",
        "    return tf.reduce_mean(loss_)"
      ],
      "execution_count": 22,
      "outputs": []
    },
    {
      "cell_type": "code",
      "metadata": {
        "id": "fcxJ9Y56mxvv"
      },
      "source": [
        "checkpoint_dir = '/content/out/training_checkpoints'\n",
        "checkpoint_prefix = os.path.join(checkpoint_dir, \"ckpt\")\n",
        "checkpoint = tf.train.Checkpoint(optimizer=optimizer,\n",
        "                                 encoder=encoder,\n",
        "                                 decoder=decoder)"
      ],
      "execution_count": 23,
      "outputs": []
    },
    {
      "cell_type": "code",
      "metadata": {
        "id": "AJovMKqxmxta"
      },
      "source": [
        "@tf.function\n",
        "def train_step(inp, targ, enc_hidden):\n",
        "    loss = 0\n",
        "\n",
        "    with tf.GradientTape() as tape:\n",
        "        enc_output, enc_hidden = encoder(inp, enc_hidden)\n",
        "\n",
        "        dec_hidden = enc_hidden\n",
        "\n",
        "        dec_input = tf.expand_dims([lang_tokenizer[config.languages.target.name].word_index[config.preprocessing.start_token]] * config.model.batch_size, 1)\n",
        "\n",
        "        # Teacher forcing - feeding the target as the next input\n",
        "        for t in range(1, targ.shape[1]):\n",
        "        # passing enc_output to the decoder\n",
        "            predictions, dec_hidden, _ = decoder(dec_input, dec_hidden, enc_output)\n",
        "\n",
        "            loss += loss_function(targ[:, t], predictions)\n",
        "\n",
        "            # using teacher forcing\n",
        "            dec_input = tf.expand_dims(targ[:, t], 1)\n",
        "\n",
        "    batch_loss = (loss / int(targ.shape[1]))\n",
        "\n",
        "    variables = encoder.trainable_variables + decoder.trainable_variables\n",
        "\n",
        "    gradients = tape.gradient(loss, variables)\n",
        "\n",
        "    optimizer.apply_gradients(zip(gradients, variables))\n",
        "\n",
        "    return batch_loss"
      ],
      "execution_count": 24,
      "outputs": []
    },
    {
      "cell_type": "code",
      "metadata": {
        "id": "WybBwGZtna74",
        "colab": {
          "base_uri": "https://localhost:8080/"
        },
        "outputId": "e730ae6c-87eb-42c9-e499-1be3a3becc43"
      },
      "source": [
        "for epoch in range(config.training.epochs):\n",
        "    start = time.time()\n",
        "\n",
        "    enc_hidden = encoder.initialize_hidden_state()\n",
        "    total_loss = 0\n",
        "\n",
        "    for (batch, (inp, targ)) in enumerate(dataset.take(steps_per_epoch)):\n",
        "        batch_loss = train_step(inp, targ, enc_hidden)\n",
        "        total_loss += batch_loss\n",
        "\n",
        "        logger.log_scalar('batch_loss', batch_loss, step=batch)\n",
        "\n",
        "        if batch % 100 == 0:\n",
        "            print(f'Epoch {epoch+1} Batch {batch} Loss {batch_loss.numpy():.4f}')\n",
        "    \n",
        "    logger.log_scalar('total_loss', total_loss, step=epoch)\n",
        "    # saving (checkpoint) the model every 2 epochs\n",
        "    if (epoch + 1) % 2 == 0:\n",
        "        checkpoint.save(file_prefix=checkpoint_prefix)\n",
        "\n",
        "    print(f'Epoch {epoch+1} Loss {total_loss/steps_per_epoch:.4f}')\n",
        "    print(f'Time taken for 1 epoch {time.time()-start:.2f} sec\\n')"
      ],
      "execution_count": 25,
      "outputs": [
        {
          "output_type": "stream",
          "text": [
            "Epoch 1 Batch 0 Loss 3.7535\n",
            "Epoch 1 Batch 100 Loss 2.3609\n",
            "Epoch 1 Batch 200 Loss 2.0399\n",
            "Epoch 1 Batch 300 Loss 1.6432\n",
            "Epoch 1 Batch 400 Loss 2.6656\n",
            "Epoch 1 Batch 500 Loss 2.0475\n",
            "Epoch 1 Batch 600 Loss 2.4744\n",
            "Epoch 1 Batch 700 Loss 1.6721\n",
            "Epoch 1 Batch 800 Loss 2.2348\n",
            "Epoch 1 Batch 900 Loss 1.8878\n",
            "Epoch 1 Batch 1000 Loss 0.9490\n",
            "Epoch 1 Batch 1100 Loss 1.9578\n",
            "Epoch 1 Batch 1200 Loss 1.5171\n",
            "Epoch 1 Batch 1300 Loss 1.8165\n",
            "Epoch 1 Batch 1400 Loss 1.4191\n",
            "Epoch 1 Batch 1500 Loss 1.5566\n",
            "Epoch 1 Batch 1600 Loss 1.3014\n",
            "Epoch 1 Batch 1700 Loss 1.7414\n",
            "Epoch 1 Loss 1.9643\n",
            "Time taken for 1 epoch 485.77 sec\n",
            "\n",
            "Epoch 2 Batch 0 Loss 1.4574\n",
            "Epoch 2 Batch 100 Loss 1.4508\n",
            "Epoch 2 Batch 200 Loss 1.2191\n",
            "Epoch 2 Batch 300 Loss 1.0054\n",
            "Epoch 2 Batch 400 Loss 1.7291\n",
            "Epoch 2 Batch 500 Loss 1.2429\n",
            "Epoch 2 Batch 600 Loss 1.5786\n",
            "Epoch 2 Batch 700 Loss 0.9793\n",
            "Epoch 2 Batch 800 Loss 1.6198\n",
            "Epoch 2 Batch 900 Loss 1.1362\n",
            "Epoch 2 Batch 1000 Loss 0.5435\n",
            "Epoch 2 Batch 1100 Loss 1.4572\n",
            "Epoch 2 Batch 1200 Loss 1.1073\n",
            "Epoch 2 Batch 1300 Loss 1.2461\n",
            "Epoch 2 Batch 1400 Loss 1.0180\n",
            "Epoch 2 Batch 1500 Loss 1.1347\n",
            "Epoch 2 Batch 1600 Loss 0.9708\n",
            "Epoch 2 Batch 1700 Loss 1.3232\n",
            "Epoch 2 Loss 1.3066\n",
            "Time taken for 1 epoch 453.38 sec\n",
            "\n",
            "Epoch 3 Batch 0 Loss 0.9766\n",
            "Epoch 3 Batch 100 Loss 1.0321\n",
            "Epoch 3 Batch 200 Loss 0.8686\n",
            "Epoch 3 Batch 300 Loss 0.7312\n",
            "Epoch 3 Batch 400 Loss 1.3511\n",
            "Epoch 3 Batch 500 Loss 0.9118\n",
            "Epoch 3 Batch 600 Loss 1.1940\n",
            "Epoch 3 Batch 700 Loss 0.6941\n",
            "Epoch 3 Batch 800 Loss 1.2414\n",
            "Epoch 3 Batch 900 Loss 0.8314\n",
            "Epoch 3 Batch 1000 Loss 0.3671\n",
            "Epoch 3 Batch 1100 Loss 1.1480\n",
            "Epoch 3 Batch 1200 Loss 0.8306\n",
            "Epoch 3 Batch 1300 Loss 0.9569\n",
            "Epoch 3 Batch 1400 Loss 0.7644\n",
            "Epoch 3 Batch 1500 Loss 0.8682\n",
            "Epoch 3 Batch 1600 Loss 0.8015\n",
            "Epoch 3 Batch 1700 Loss 1.0519\n",
            "Epoch 3 Loss 0.9793\n",
            "Time taken for 1 epoch 450.91 sec\n",
            "\n",
            "Epoch 4 Batch 0 Loss 0.7496\n",
            "Epoch 4 Batch 100 Loss 0.7558\n",
            "Epoch 4 Batch 200 Loss 0.6187\n",
            "Epoch 4 Batch 300 Loss 0.5932\n",
            "Epoch 4 Batch 400 Loss 1.0650\n",
            "Epoch 4 Batch 500 Loss 0.7171\n",
            "Epoch 4 Batch 600 Loss 0.9163\n",
            "Epoch 4 Batch 700 Loss 0.5200\n",
            "Epoch 4 Batch 800 Loss 0.9204\n",
            "Epoch 4 Batch 900 Loss 0.6646\n",
            "Epoch 4 Batch 1000 Loss 0.2850\n",
            "Epoch 4 Batch 1100 Loss 0.9063\n",
            "Epoch 4 Batch 1200 Loss 0.6348\n",
            "Epoch 4 Batch 1300 Loss 0.7508\n",
            "Epoch 4 Batch 1400 Loss 0.6013\n",
            "Epoch 4 Batch 1500 Loss 0.7100\n",
            "Epoch 4 Batch 1600 Loss 0.6717\n",
            "Epoch 4 Batch 1700 Loss 0.8371\n",
            "Epoch 4 Loss 0.7557\n",
            "Time taken for 1 epoch 452.49 sec\n",
            "\n",
            "Epoch 5 Batch 0 Loss 0.5808\n",
            "Epoch 5 Batch 100 Loss 0.5807\n",
            "Epoch 5 Batch 200 Loss 0.4615\n",
            "Epoch 5 Batch 300 Loss 0.4895\n",
            "Epoch 5 Batch 400 Loss 0.8520\n",
            "Epoch 5 Batch 500 Loss 0.5622\n",
            "Epoch 5 Batch 600 Loss 0.7255\n",
            "Epoch 5 Batch 700 Loss 0.3996\n",
            "Epoch 5 Batch 800 Loss 0.7150\n",
            "Epoch 5 Batch 900 Loss 0.5298\n",
            "Epoch 5 Batch 1000 Loss 0.2255\n",
            "Epoch 5 Batch 1100 Loss 0.7048\n",
            "Epoch 5 Batch 1200 Loss 0.5088\n",
            "Epoch 5 Batch 1300 Loss 0.6005\n",
            "Epoch 5 Batch 1400 Loss 0.4636\n",
            "Epoch 5 Batch 1500 Loss 0.5871\n",
            "Epoch 5 Batch 1600 Loss 0.5476\n",
            "Epoch 5 Batch 1700 Loss 0.6765\n",
            "Epoch 5 Loss 0.5939\n",
            "Time taken for 1 epoch 451.14 sec\n",
            "\n",
            "Epoch 6 Batch 0 Loss 0.4719\n",
            "Epoch 6 Batch 100 Loss 0.4635\n",
            "Epoch 6 Batch 200 Loss 0.3684\n",
            "Epoch 6 Batch 300 Loss 0.4071\n",
            "Epoch 6 Batch 400 Loss 0.6815\n",
            "Epoch 6 Batch 500 Loss 0.4583\n",
            "Epoch 6 Batch 600 Loss 0.6025\n",
            "Epoch 6 Batch 700 Loss 0.2982\n",
            "Epoch 6 Batch 800 Loss 0.5755\n",
            "Epoch 6 Batch 900 Loss 0.4541\n",
            "Epoch 6 Batch 1000 Loss 0.1908\n",
            "Epoch 6 Batch 1100 Loss 0.5535\n",
            "Epoch 6 Batch 1200 Loss 0.4115\n",
            "Epoch 6 Batch 1300 Loss 0.4999\n",
            "Epoch 6 Batch 1400 Loss 0.3662\n",
            "Epoch 6 Batch 1500 Loss 0.4923\n",
            "Epoch 6 Batch 1600 Loss 0.4357\n",
            "Epoch 6 Batch 1700 Loss 0.5576\n",
            "Epoch 6 Loss 0.4793\n",
            "Time taken for 1 epoch 453.02 sec\n",
            "\n",
            "Epoch 7 Batch 0 Loss 0.3829\n",
            "Epoch 7 Batch 100 Loss 0.3891\n",
            "Epoch 7 Batch 200 Loss 0.2962\n",
            "Epoch 7 Batch 300 Loss 0.3314\n",
            "Epoch 7 Batch 400 Loss 0.5616\n",
            "Epoch 7 Batch 500 Loss 0.3643\n",
            "Epoch 7 Batch 600 Loss 0.5316\n",
            "Epoch 7 Batch 700 Loss 0.2598\n",
            "Epoch 7 Batch 800 Loss 0.4894\n",
            "Epoch 7 Batch 900 Loss 0.3765\n",
            "Epoch 7 Batch 1000 Loss 0.1741\n",
            "Epoch 7 Batch 1100 Loss 0.4423\n",
            "Epoch 7 Batch 1200 Loss 0.3207\n",
            "Epoch 7 Batch 1300 Loss 0.4031\n",
            "Epoch 7 Batch 1400 Loss 0.2882\n",
            "Epoch 7 Batch 1500 Loss 0.3803\n",
            "Epoch 7 Batch 1600 Loss 0.3751\n",
            "Epoch 7 Batch 1700 Loss 0.4767\n",
            "Epoch 7 Loss 0.3947\n",
            "Time taken for 1 epoch 450.70 sec\n",
            "\n",
            "Epoch 8 Batch 0 Loss 0.3098\n",
            "Epoch 8 Batch 100 Loss 0.3131\n",
            "Epoch 8 Batch 200 Loss 0.2466\n",
            "Epoch 8 Batch 300 Loss 0.2827\n",
            "Epoch 8 Batch 400 Loss 0.4745\n",
            "Epoch 8 Batch 500 Loss 0.3127\n",
            "Epoch 8 Batch 600 Loss 0.4190\n",
            "Epoch 8 Batch 700 Loss 0.2334\n",
            "Epoch 8 Batch 800 Loss 0.4040\n",
            "Epoch 8 Batch 900 Loss 0.3249\n",
            "Epoch 8 Batch 1000 Loss 0.1443\n",
            "Epoch 8 Batch 1100 Loss 0.3523\n",
            "Epoch 8 Batch 1200 Loss 0.2751\n",
            "Epoch 8 Batch 1300 Loss 0.3097\n",
            "Epoch 8 Batch 1400 Loss 0.2422\n",
            "Epoch 8 Batch 1500 Loss 0.3206\n",
            "Epoch 8 Batch 1600 Loss 0.3682\n",
            "Epoch 8 Batch 1700 Loss 0.3735\n",
            "Epoch 8 Loss 0.3285\n",
            "Time taken for 1 epoch 452.85 sec\n",
            "\n",
            "Epoch 9 Batch 0 Loss 0.2803\n",
            "Epoch 9 Batch 100 Loss 0.2708\n",
            "Epoch 9 Batch 200 Loss 0.1985\n",
            "Epoch 9 Batch 300 Loss 0.2556\n",
            "Epoch 9 Batch 400 Loss 0.4233\n",
            "Epoch 9 Batch 500 Loss 0.2711\n",
            "Epoch 9 Batch 600 Loss 0.3820\n",
            "Epoch 9 Batch 700 Loss 0.1710\n",
            "Epoch 9 Batch 800 Loss 0.3286\n",
            "Epoch 9 Batch 900 Loss 0.2702\n",
            "Epoch 9 Batch 1000 Loss 0.1082\n",
            "Epoch 9 Batch 1100 Loss 0.3091\n",
            "Epoch 9 Batch 1200 Loss 0.2209\n",
            "Epoch 9 Batch 1300 Loss 0.3018\n",
            "Epoch 9 Batch 1400 Loss 0.1919\n",
            "Epoch 9 Batch 1500 Loss 0.2742\n",
            "Epoch 9 Batch 1600 Loss 0.2682\n",
            "Epoch 9 Batch 1700 Loss 0.3214\n",
            "Epoch 9 Loss 0.2744\n",
            "Time taken for 1 epoch 450.99 sec\n",
            "\n",
            "Epoch 10 Batch 0 Loss 0.2327\n",
            "Epoch 10 Batch 100 Loss 0.2208\n",
            "Epoch 10 Batch 200 Loss 0.1789\n",
            "Epoch 10 Batch 300 Loss 0.1926\n",
            "Epoch 10 Batch 400 Loss 0.3566\n",
            "Epoch 10 Batch 500 Loss 0.2253\n",
            "Epoch 10 Batch 600 Loss 0.3213\n",
            "Epoch 10 Batch 700 Loss 0.1617\n",
            "Epoch 10 Batch 800 Loss 0.2895\n",
            "Epoch 10 Batch 900 Loss 0.2003\n",
            "Epoch 10 Batch 1000 Loss 0.1085\n",
            "Epoch 10 Batch 1100 Loss 0.2794\n",
            "Epoch 10 Batch 1200 Loss 0.2084\n",
            "Epoch 10 Batch 1300 Loss 0.2322\n",
            "Epoch 10 Batch 1400 Loss 0.1700\n",
            "Epoch 10 Batch 1500 Loss 0.2585\n",
            "Epoch 10 Batch 1600 Loss 0.2396\n",
            "Epoch 10 Batch 1700 Loss 0.2844\n",
            "Epoch 10 Loss 0.2312\n",
            "Time taken for 1 epoch 452.57 sec\n",
            "\n"
          ],
          "name": "stdout"
        }
      ]
    },
    {
      "cell_type": "code",
      "metadata": {
        "id": "k9bPFVrZXLud"
      },
      "source": [
        "def evaluate(sentence):\n",
        "    attention_plot = np.zeros((max_len_targ, max_len_inp))\n",
        "\n",
        "    sentence = preprocess_sentence(sentence, config.languages.input.sentence_maxlen)\n",
        "    oov_index = lang_tokenizer[config.languages.input.name].word_index[config.preprocessing.oov_token]\n",
        "    inputs = [lang_tokenizer[config.languages.input.name].word_index.get(i, oov_index) for i in sentence.split(' ')]\n",
        "    inputs = tf.keras.preprocessing.sequence.pad_sequences([inputs],\n",
        "                                                            maxlen=max_len_inp,\n",
        "                                                            padding=config.preprocessing.padding)\n",
        "    inputs = tf.convert_to_tensor(inputs)\n",
        "\n",
        "    result = ''\n",
        "\n",
        "    hidden = [tf.zeros((1, config.model.n_units))]\n",
        "    enc_out, enc_hidden = encoder(inputs, hidden)\n",
        "\n",
        "    dec_hidden = enc_hidden\n",
        "    dec_input = tf.expand_dims([lang_tokenizer[config.languages.target.name].word_index[config.preprocessing.start_token]], 0)\n",
        "\n",
        "    for t in range(max_len_targ):\n",
        "        predictions, dec_hidden, attention_weights = decoder(dec_input,\n",
        "                                                            dec_hidden,\n",
        "                                                            enc_out)\n",
        "\n",
        "        # storing the attention weights to plot later on\n",
        "        attention_weights = tf.reshape(attention_weights, (-1, ))\n",
        "        attention_plot[t] = attention_weights.numpy()\n",
        "\n",
        "        predicted_id = tf.argmax(predictions[0]).numpy() # Greedy\n",
        "\n",
        "        result += lang_tokenizer[config.languages.target.name].index_word[predicted_id] + ' '\n",
        "\n",
        "        if lang_tokenizer[config.languages.target.name].index_word[predicted_id] == config.preprocessing.end_token:\n",
        "            return result, sentence, attention_plot\n",
        "\n",
        "        # the predicted ID is fed back into the model\n",
        "        dec_input = tf.expand_dims([predicted_id], 0)\n",
        "\n",
        "    return result, sentence, attention_plot"
      ],
      "execution_count": 26,
      "outputs": []
    },
    {
      "cell_type": "code",
      "metadata": {
        "id": "-zZs-2K1QIZD"
      },
      "source": [
        "def plot_attention(attention, sentence, predicted_sentence):\n",
        "    fig = plt.figure(figsize=(10, 10))\n",
        "    ax = fig.add_subplot(1, 1, 1)\n",
        "    ax.matshow(attention, cmap='gray')\n",
        "\n",
        "    fontdict = {'fontsize': 14}\n",
        "\n",
        "    ax.set_xticklabels([''] + sentence, fontdict=fontdict, rotation=90)\n",
        "    ax.set_yticklabels([''] + predicted_sentence, fontdict=fontdict)\n",
        "\n",
        "    ax.xaxis.set_major_locator(ticker.MultipleLocator(1))\n",
        "    ax.yaxis.set_major_locator(ticker.MultipleLocator(1))\n",
        "\n",
        "    plt.show()"
      ],
      "execution_count": 27,
      "outputs": []
    },
    {
      "cell_type": "code",
      "metadata": {
        "id": "jkgAftxGQaHX"
      },
      "source": [
        "def translate(sentence):\n",
        "    if type(sentence)==str:\n",
        "        sentence = sentence.encode()\n",
        "    result, sentence, attention_plot = evaluate(sentence)\n",
        "\n",
        "    print('Input:', sentence)\n",
        "    print('Predicted translation:', result)\n",
        "\n",
        "    attention_plot = attention_plot[:len(result.split(' ')),\n",
        "                                    :len(sentence.split(' '))]\n",
        "    plot_attention(attention_plot, sentence.split(' '), result.split(' '))"
      ],
      "execution_count": 28,
      "outputs": []
    },
    {
      "cell_type": "code",
      "metadata": {
        "id": "njUP-0V7qsDL",
        "outputId": "08333aee-bb39-4d93-c1de-1932251a738d",
        "colab": {
          "base_uri": "https://localhost:8080/",
          "height": 566
        }
      },
      "source": [
        "translate('There are no known side-effects.')"
      ],
      "execution_count": 49,
      "outputs": [
        {
          "output_type": "stream",
          "text": [
            "Input: <start> there are no known side effects . <end>\n",
            "Predicted translation: es liegen keine bekannt . <end> \n"
          ],
          "name": "stdout"
        },
        {
          "output_type": "display_data",
          "data": {
            "image/png": "[encoded data removed]",
            "text/plain": [
              "<Figure size 720x720 with 1 Axes>"
            ]
          },
          "metadata": {
            "tags": [],
            "needs_background": "light"
          }
        }
      ]
    },
    {
      "cell_type": "code",
      "metadata": {
        "id": "iPH9lXINNXi3",
        "outputId": "f92c228f-3d4a-4906-c134-dff342a49f22",
        "colab": {
          "base_uri": "https://localhost:8080/"
        }
      },
      "source": [
        "!tensorboard dev upload --logdir \"/content/out/tensorboard/logs/\" \\\n",
        "  --name \"{config.logging.name}\" \\\n",
        "  --description \"{config.logging.description}\" \\\n",
        "  --one_shot"
      ],
      "execution_count": 40,
      "outputs": [
        {
          "output_type": "stream",
          "text": [
            "2021-05-20 21:33:34.042758: I tensorflow/stream_executor/platform/default/dso_loader.cc:49] Successfully opened dynamic library libcudart.so.11.0\n",
            "Data for the \"text\" plugin is now uploaded to TensorBoard.dev! Note that uploaded data is public. If you do not want to upload data for this plugin, use the \"--plugins\" command line argument.\n",
            "\n",
            "New experiment created. View your TensorBoard at: https://tensorboard.dev/experiment/LmYkpbnRQ3imVlHOljdhmA/\n",
            "\n",
            "\u001b[1m[2021-05-20T21:33:35]\u001b[0m Started scanning logdir.\n",
            "\u001b[1m[2021-05-20T21:33:40]\u001b[0m Total uploaded: 17333 scalars, 0 tensors, 0 binary objects\n",
            "\u001b[1m[2021-05-20T21:33:40]\u001b[0m Done scanning logdir.\n",
            "\n",
            "\n",
            "Done. View your TensorBoard at https://tensorboard.dev/experiment/LmYkpbnRQ3imVlHOljdhmA/\n"
          ],
          "name": "stdout"
        }
      ]
    },
    {
      "cell_type": "code",
      "metadata": {
        "id": "wy-iP6IyNXhB",
        "outputId": "57eff00c-9ecd-48d5-da30-fa9c3ac2041f",
        "colab": {
          "base_uri": "https://localhost:8080/",
          "height": 35
        }
      },
      "source": [
        "config.logging.dir"
      ],
      "execution_count": 38,
      "outputs": [
        {
          "output_type": "execute_result",
          "data": {
            "application/vnd.google.colaboratory.intrinsic+json": {
              "type": "string"
            },
            "text/plain": [
              "'/content/out/tensorboard/logs/'"
            ]
          },
          "metadata": {
            "tags": []
          },
          "execution_count": 38
        }
      ]
    },
    {
      "cell_type": "code",
      "metadata": {
        "id": "vL_P0clCNXe4"
      },
      "source": [
        "data_src_1 = '/content/out/training_checkpoints/ckpt-5.data-00000-of-00001'\n",
        "data_dest_1 = '/content/drive/MyDrive/Colab Notebooks/Data/seq2seqcheckpoints/ckpt-5.data-00000-of-00001'\n",
        "\n",
        "data_src_2 = '/content/out/training_checkpoints/ckpt-5.index'\n",
        "data_dest_2 = '/content/drive/MyDrive/Colab Notebooks/Data/seq2seqcheckpoints/ckpt-5.index'"
      ],
      "execution_count": 45,
      "outputs": []
    },
    {
      "cell_type": "code",
      "metadata": {
        "id": "StamxXA-NXcg"
      },
      "source": [
        "d = shutil.copyfile(data_src_2, data_dest_2)"
      ],
      "execution_count": 46,
      "outputs": []
    },
    {
      "cell_type": "code",
      "metadata": {
        "id": "1csevuB96KRL"
      },
      "source": [
        ""
      ],
      "execution_count": 28,
      "outputs": []
    }
  ]
}